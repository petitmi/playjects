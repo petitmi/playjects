{
  "cells": [
    {
      "cell_type": "markdown",
      "metadata": {
        "id": "view-in-github",
        "colab_type": "text"
      },
      "source": [
        "<a href=\"https://colab.research.google.com/github/petitmi/FasterRCNN-ObjectDetection-VOC/blob/main/FasterRCNN.ipynb\" target=\"_parent\"><img src=\"https://colab.research.google.com/assets/colab-badge.svg\" alt=\"Open In Colab\"/></a>"
      ]
    },
    {
      "cell_type": "code",
      "execution_count": 9,
      "metadata": {
        "colab": {
          "base_uri": "https://localhost:8080/"
        },
        "id": "CINjibxJgNEL",
        "outputId": "0be66577-f64c-480f-dc90-774c81f073a0"
      },
      "outputs": [
        {
          "output_type": "stream",
          "name": "stdout",
          "text": [
            "Drive already mounted at /content/drive; to attempt to forcibly remount, call drive.mount(\"/content/drive\", force_remount=True).\n"
          ]
        }
      ],
      "source": [
        "from google.colab import drive\n",
        "drive.mount('/content/drive') "
      ]
    },
    {
      "cell_type": "code",
      "execution_count": 10,
      "metadata": {
        "id": "lWiBplSfhCqW"
      },
      "outputs": [],
      "source": [
        "# import shutil\n",
        "# shutil.rmtree('/content/drive/MyDrive/586/Project/data')"
      ]
    },
    {
      "cell_type": "markdown",
      "metadata": {
        "id": "iTDS4NqEnRnY"
      },
      "source": [
        "## Data Processing\n",
        "The dataset is organized into several directories, each with a specific purpose.\n",
        "1. `Annotations`: This directory contains the ground truth annotations for each image in the dataset. The annotations are stored in XML files, with one file per image. These files provide information about the objects present in the image, such as the object class, bounding box coordinates (xmin, ymin, xmax, ymax), and other relevant attributes (e.g., whether the object is difficult or truncated).\n",
        "\n",
        "2. `ImageSets`: This directory contains text files that define different subsets of the dataset, such as training, validation, and testing splits. The files are organized into subdirectories according to the specific task (e.g., Main, Layout, Segmentation, etc.). Each file lists the image names (without the file extension) included in the particular subset. For example, train.txt lists the images used for training, and val.txt lists the images used for validation.\n",
        "\n",
        "3. `JPEGImages`: This directory contains the actual image files in JPEG format. The images are named using a unique identifier (e.g., 000001.jpg, 000002.jpg, etc.). These images are the input data for training and evaluation of object classification, detection, and segmentation models.\n",
        "\n",
        "4. `SegmentationClass` and `SegmentationObject`: These two directories contains segmentation masks for semantic and instance segmentation, which is not what this project would cover."
      ]
    },
    {
      "cell_type": "code",
      "execution_count": 11,
      "metadata": {
        "colab": {
          "base_uri": "https://localhost:8080/"
        },
        "id": "Cb-9Eu8u5xhJ",
        "outputId": "16f3e434-72fe-4fbe-8415-ffb9ec4db5f0"
      },
      "outputs": [
        {
          "output_type": "stream",
          "name": "stdout",
          "text": [
            "Looking in indexes: https://pypi.org/simple, https://us-python.pkg.dev/colab-wheels/public/simple/\n",
            "Requirement already satisfied: torchmetrics in /usr/local/lib/python3.9/dist-packages (0.11.4)\n",
            "Requirement already satisfied: torch>=1.8.1 in /usr/local/lib/python3.9/dist-packages (from torchmetrics) (2.0.0+cu118)\n",
            "Requirement already satisfied: packaging in /usr/local/lib/python3.9/dist-packages (from torchmetrics) (23.1)\n",
            "Requirement already satisfied: numpy>=1.17.2 in /usr/local/lib/python3.9/dist-packages (from torchmetrics) (1.22.4)\n",
            "Requirement already satisfied: typing-extensions in /usr/local/lib/python3.9/dist-packages (from torch>=1.8.1->torchmetrics) (4.5.0)\n",
            "Requirement already satisfied: networkx in /usr/local/lib/python3.9/dist-packages (from torch>=1.8.1->torchmetrics) (3.1)\n",
            "Requirement already satisfied: jinja2 in /usr/local/lib/python3.9/dist-packages (from torch>=1.8.1->torchmetrics) (3.1.2)\n",
            "Requirement already satisfied: triton==2.0.0 in /usr/local/lib/python3.9/dist-packages (from torch>=1.8.1->torchmetrics) (2.0.0)\n",
            "Requirement already satisfied: sympy in /usr/local/lib/python3.9/dist-packages (from torch>=1.8.1->torchmetrics) (1.11.1)\n",
            "Requirement already satisfied: filelock in /usr/local/lib/python3.9/dist-packages (from torch>=1.8.1->torchmetrics) (3.11.0)\n",
            "Requirement already satisfied: cmake in /usr/local/lib/python3.9/dist-packages (from triton==2.0.0->torch>=1.8.1->torchmetrics) (3.25.2)\n",
            "Requirement already satisfied: lit in /usr/local/lib/python3.9/dist-packages (from triton==2.0.0->torch>=1.8.1->torchmetrics) (16.0.1)\n",
            "Requirement already satisfied: MarkupSafe>=2.0 in /usr/local/lib/python3.9/dist-packages (from jinja2->torch>=1.8.1->torchmetrics) (2.1.2)\n",
            "Requirement already satisfied: mpmath>=0.19 in /usr/local/lib/python3.9/dist-packages (from sympy->torch>=1.8.1->torchmetrics) (1.3.0)\n"
          ]
        }
      ],
      "source": [
        "!pip install torchmetrics"
      ]
    },
    {
      "cell_type": "markdown",
      "metadata": {
        "id": "H6HY8-YVnBRf"
      },
      "source": [
        "Install the necessary libraries.\n",
        "In addition, a list for converting indexes to object names and a dictionary for converting object names to indexes will be provided."
      ]
    },
    {
      "cell_type": "code",
      "execution_count": 12,
      "metadata": {
        "colab": {
          "base_uri": "https://localhost:8080/"
        },
        "id": "r4svW2C7hNnc",
        "outputId": "5624d5e0-0543-4988-e4f6-68880b68c14e"
      },
      "outputs": [
        {
          "output_type": "stream",
          "name": "stdout",
          "text": [
            "['__background__', 'aeroplane', 'bicycle', 'bird', 'boat', 'bottle', 'bus', 'car', 'cat', 'chair', 'cow', 'diningtable', 'dog', 'horse', 'motorbike', 'person', 'pottedplant', 'sheep', 'sofa', 'train', 'tvmonitor', 'ambigious']\n",
            "{'__background__': 0, 'aeroplane': 1, 'bicycle': 2, 'bird': 3, 'boat': 4, 'bottle': 5, 'bus': 6, 'car': 7, 'cat': 8, 'chair': 9, 'cow': 10, 'diningtable': 11, 'dog': 12, 'horse': 13, 'motorbike': 14, 'person': 15, 'pottedplant': 16, 'sheep': 17, 'sofa': 18, 'train': 19, 'tvmonitor': 20, 'ambigious': 21}\n"
          ]
        }
      ],
      "source": [
        "import torch\n",
        "from torch.utils.data import DataLoader\n",
        "\n",
        "import torchvision\n",
        "import torchvision.transforms as transforms\n",
        "from torchvision.utils import draw_bounding_boxes\n",
        "from torchvision.models.detection.faster_rcnn import FastRCNNPredictor\n",
        "from torchmetrics.detection.mean_ap import MeanAveragePrecision\n",
        "\n",
        "import numpy as np\n",
        "import matplotlib.pyplot as plt\n",
        "\n",
        "# Convert indexes to object names\n",
        "\n",
        "index2name = ['__background__',\n",
        "        'aeroplane', 'bicycle', 'bird', 'boat', 'bottle',\n",
        "        'bus', 'car', 'cat', 'chair', 'cow', 'diningtable', 'dog', 'horse',\n",
        "        'motorbike', 'person', 'pottedplant', 'sheep', 'sofa', 'train',\n",
        "        'tvmonitor', 'ambigious'\n",
        "    ]\n",
        "\n",
        "print(index2name)\n",
        "\n",
        "name2index = dict(zip(index2name, range(len(index2name)+1)))\n",
        "print(name2index)"
      ]
    },
    {
      "cell_type": "markdown",
      "metadata": {
        "id": "J_3fEiaPnJi_"
      },
      "source": [
        "### Function to process the xml data\n",
        "Bounding box and object name data are stored in xml format.\n",
        "Functions are provided to extract and prepare the necessary data from this data."
      ]
    },
    {
      "cell_type": "code",
      "execution_count": 13,
      "metadata": {
        "id": "EsPDXn1ObiRY"
      },
      "outputs": [],
      "source": [
        "def arrange_target(target):\n",
        "    objects = target[\"annotation\"][\"object\"]\n",
        "    box_dics = [obj[\"bndbox\"] for obj in objects]\n",
        "    box_keys = [\"xmin\", \"ymin\", \"xmax\", \"ymax\"]\n",
        "\n",
        "    # bounding box\n",
        "    boxes = []\n",
        "    for box_dic in box_dics:\n",
        "        box = [int(box_dic[key]) for key in box_keys]\n",
        "        boxes.append(box)\n",
        "    boxes = torch.tensor(boxes)\n",
        "\n",
        "    # Object Name\n",
        "    labels = [name2index[obj[\"name\"]] for obj in objects]  # Object names are converted to indexes\n",
        "    labels = torch.tensor(labels)\n",
        "\n",
        "    dic = {\"boxes\":boxes, \"labels\":labels}\n",
        "    return dic\n",
        "     "
      ]
    },
    {
      "cell_type": "markdown",
      "metadata": {
        "id": "Ntm-GXoOpD0u"
      },
      "source": [
        "### Loading the data\n",
        "Load the \"Pascal VOC Detection Dataset\", a dataset provided by Torchvision.\n",
        "https://pytorch.org/vision/0.8/datasets.html#torchvision.datasets.VOCDetection\n",
        "Set the transform and target_transform settings to prepare the data for use."
      ]
    },
    {
      "cell_type": "code",
      "execution_count": 14,
      "metadata": {
        "id": "akz8I5WKe94c"
      },
      "outputs": [],
      "source": [
        "\n",
        "ROOT = \"/content/drive/MyDrive/586/Project/data\"\n",
        "\n",
        "# if 'dataset_train' not in globals():\n",
        "dataset_train=torchvision.datasets.VOCDetection(root=ROOT,\n",
        "                                                year=\"2012\",\n",
        "                                                image_set=\"train\",\n",
        "                                                # download=True,\n",
        "                                                # download=False,\n",
        "                                                transform=transforms.ToTensor(),\n",
        "                                                target_transform=transforms.Lambda(arrange_target)\n",
        "                                                )\n",
        "# if 'dataset_test' not in globals():\n",
        "dataset_test=torchvision.datasets.VOCDetection(root=ROOT,\n",
        "                                                year=\"2012\",\n",
        "                                                image_set=\"val\",\n",
        "                                                # download=True,\n",
        "                                                # download=False,\n",
        "                                                transform=transforms.ToTensor(),\n",
        "                                                target_transform=transforms.Lambda(arrange_target)\n",
        "                                                )"
      ]
    },
    {
      "cell_type": "markdown",
      "metadata": {
        "id": "vqYxlg3dnW8i"
      },
      "source": [
        "### Setting up a DataLoader\n",
        "Set up a DataLoader so that data can be retrieved little by little.  \n",
        "\n",
        "If `batch_size`>0,we need `torchvision.ops.collate_batch`, which takes a list of samples, where each sample is a tuple containing an image and its target (a dictionary with annotations). collate_batch correctly handles variable-length lists of target annotations and returns two lists: one for the batched images and another for the batched targets.\n",
        "\n"
      ]
    },
    {
      "cell_type": "code",
      "execution_count": 15,
      "metadata": {
        "id": "iVZ31dWZ4Fe9"
      },
      "outputs": [],
      "source": [
        "if 'data_loader_train' in globals():\n",
        "    del data_loader_train\n",
        "if 'data_loader_test' in globals():\n",
        "    del data_loader_test\n"
      ]
    },
    {
      "cell_type": "code",
      "source": [
        "BATCH_SIZE=5\n",
        "NUM_WORKERS = 2  \n",
        "LEARNING_RATE = 1e-2\n",
        "EPOCH = 2\n",
        "MOMENTUM = 0.9\n",
        "WEIGHT_DECAY = 5e-4\n",
        "STEP_SIZE=1\n",
        "GAMMA=0.1"
      ],
      "metadata": {
        "id": "xBsi60Bo7E26"
      },
      "execution_count": 16,
      "outputs": []
    },
    {
      "cell_type": "code",
      "execution_count": 17,
      "metadata": {
        "id": "Tsl_ocl5iCWr"
      },
      "outputs": [],
      "source": [
        "DEVICE = torch.device('cuda') if torch.cuda.is_available() else torch.device('cpu')\n",
        "\n",
        "def collate_fn(batch):\n",
        "    return tuple(zip(*batch))\n",
        "\n",
        "data_loader_train = DataLoader(dataset_train, \n",
        "                               batch_size=BATCH_SIZE, \n",
        "                               num_workers=NUM_WORKERS,\n",
        "                               shuffle=True, \n",
        "                               collate_fn=collate_fn)\n",
        "# \n",
        "data_loader_test = DataLoader(dataset_test, \n",
        "                              batch_size=BATCH_SIZE, \n",
        "                              num_workers=NUM_WORKERS,\n",
        "                              shuffle=True, \n",
        "                              collate_fn=collate_fn)"
      ]
    },
    {
      "cell_type": "code",
      "execution_count": 18,
      "metadata": {
        "colab": {
          "base_uri": "https://localhost:8080/"
        },
        "id": "C9XnUhsEbxKz",
        "outputId": "181b6a26-5061-4c95-ee25-04cab9ebcdbd"
      },
      "outputs": [
        {
          "output_type": "stream",
          "name": "stdout",
          "text": [
            "Num Train: 5717\n",
            "Num Test: 5823\n"
          ]
        }
      ],
      "source": [
        "print(f\"Num Train: {len(data_loader_train.dataset)}\")\n",
        "print(f\"Num Test: {len(data_loader_test.dataset)}\")\n"
      ]
    },
    {
      "cell_type": "markdown",
      "metadata": {
        "id": "wLmX9iR4ncYN"
      },
      "source": [
        "### Display Targets\n",
        "Draws bounding boxes and labels on the image.\n",
        "The function `draw_bounding_boxes` takes three arguments - the input image, the bounding boxes, and the class labels (names) of the detected objects. The function is responsible for drawing the bounding boxes around the detected objects in the image and annotating them with the corresponding class labels.\n",
        "https://pytorch.org/vision/master/utils.html#torchvision.utils.draw_bounding_boxes"
      ]
    },
    {
      "cell_type": "code",
      "execution_count": 19,
      "metadata": {
        "id": "XbBoXKprlrZ2"
      },
      "outputs": [],
      "source": [
        "# dataiter = iter(data_loader_train)  # iterator\n",
        "# image,target = next(dataiter)  # retrieve a batch: image, target\n",
        "# print(image[0].shape,'\\n',target[0]) # image shape: C,H,W\n"
      ]
    },
    {
      "cell_type": "code",
      "execution_count": 20,
      "metadata": {
        "id": "8kSGCpif75u-"
      },
      "outputs": [],
      "source": [
        "# def show_boxes(image, boxes, names):\n",
        "#     drawn_boxes = draw_bounding_boxes(image, boxes, labels=names) \n",
        "#     plt.figure(figsize = (16,16))\n",
        "#     plt.imshow(np.transpose(drawn_boxes, (1, 2, 0)))  # change the order of the axes to (H, W, C) - imshow required.\n",
        "#     plt.tick_params(labelbottom=False, labelleft=False, bottom=False, left=False)  # Hide labels and memory\n",
        "#     plt.show()\n",
        "\n",
        "# image = image[0]\n",
        "# image = (image*255).to(torch.uint8)  # multiplying 255 means scaling the normalized values back to the range [0, 255]. \n",
        "\n",
        "# boxes = target[0][\"boxes\"]\n",
        "# labels = target[0][\"labels\"]\n",
        "# names = [index2name[label.item()] for label in labels] # change label index to words\n",
        "\n",
        "# show_boxes(image, boxes, names)"
      ]
    },
    {
      "cell_type": "markdown",
      "metadata": {
        "id": "55azQl4nnh68"
      },
      "source": [
        "## Building the model\n",
        "Set up a Faster R-CNN model with ResNet-50-FPN as the backbone and load the learned parameters.\n",
        "https://pytorch.org/vision/stable/models.html#torchvision.models.detection.fasterrcnn_resnet50_fpn\n",
        "\n",
        "Faster R-CNN consists of two main components: the Region Proposal Network (RPN) and the Fast R-CNN. The RPN is responsible for generating region proposals that potentially contain objects. Some of these proposals may cover only the background or irrelevant parts of the image. To handle this, the background class is added to the set of object classes during the training process.\n",
        "\n",
        "In our case, there are 20 types of objects, but since we want to include the background, we will add 1 to this number to create a 21-class classification. The background class represents regions in the image that do not contain any objects of interest, which is used to differentiate between the actual objects and the background.\n",
        "\n",
        "The box_predictor is generated using the `FastRCNNPredictor` class.\n",
        "https://github.com/pytorch/vision/blob/6d9a42c322cb815516d5ea556b751d0c7e767c7f/torchvision/models/detection/faster_rcnn.py#L285.\n",
        "\n",
        "`FastRCNNPredictor` is a component of the Faster R-CNN model, specifically the box predictor, which is responsible for predicting the class labels and bounding box refinements for the Region of Interest (ROI) proposals. The input data for FastRCNNPredictor is the pooled features from each region proposal, which are processed by the ROI pooling layer.\n",
        "\n",
        "The original paper on Faster R-CNN is here.\n",
        "https://arxiv.org/abs/1506.01497\n",
        "\n"
      ]
    },
    {
      "cell_type": "code",
      "execution_count": 21,
      "metadata": {
        "colab": {
          "base_uri": "https://localhost:8080/"
        },
        "id": "8lRfOigyluX-",
        "outputId": "aaa5b1b5-878f-49fc-f7f8-081a9133d68a"
      },
      "outputs": [
        {
          "output_type": "stream",
          "name": "stderr",
          "text": [
            "Downloading: \"https://download.pytorch.org/models/fasterrcnn_resnet50_fpn_coco-258fb6c6.pth\" to /root/.cache/torch/hub/checkpoints/fasterrcnn_resnet50_fpn_coco-258fb6c6.pth\n",
            "100%|██████████| 160M/160M [00:00<00:00, 226MB/s]\n"
          ]
        },
        {
          "output_type": "execute_result",
          "data": {
            "text/plain": [
              "FasterRCNN(\n",
              "  (transform): GeneralizedRCNNTransform(\n",
              "      Normalize(mean=[0.485, 0.456, 0.406], std=[0.229, 0.224, 0.225])\n",
              "      Resize(min_size=(800,), max_size=1333, mode='bilinear')\n",
              "  )\n",
              "  (backbone): BackboneWithFPN(\n",
              "    (body): IntermediateLayerGetter(\n",
              "      (conv1): Conv2d(3, 64, kernel_size=(7, 7), stride=(2, 2), padding=(3, 3), bias=False)\n",
              "      (bn1): FrozenBatchNorm2d(64, eps=0.0)\n",
              "      (relu): ReLU(inplace=True)\n",
              "      (maxpool): MaxPool2d(kernel_size=3, stride=2, padding=1, dilation=1, ceil_mode=False)\n",
              "      (layer1): Sequential(\n",
              "        (0): Bottleneck(\n",
              "          (conv1): Conv2d(64, 64, kernel_size=(1, 1), stride=(1, 1), bias=False)\n",
              "          (bn1): FrozenBatchNorm2d(64, eps=0.0)\n",
              "          (conv2): Conv2d(64, 64, kernel_size=(3, 3), stride=(1, 1), padding=(1, 1), bias=False)\n",
              "          (bn2): FrozenBatchNorm2d(64, eps=0.0)\n",
              "          (conv3): Conv2d(64, 256, kernel_size=(1, 1), stride=(1, 1), bias=False)\n",
              "          (bn3): FrozenBatchNorm2d(256, eps=0.0)\n",
              "          (relu): ReLU(inplace=True)\n",
              "          (downsample): Sequential(\n",
              "            (0): Conv2d(64, 256, kernel_size=(1, 1), stride=(1, 1), bias=False)\n",
              "            (1): FrozenBatchNorm2d(256, eps=0.0)\n",
              "          )\n",
              "        )\n",
              "        (1): Bottleneck(\n",
              "          (conv1): Conv2d(256, 64, kernel_size=(1, 1), stride=(1, 1), bias=False)\n",
              "          (bn1): FrozenBatchNorm2d(64, eps=0.0)\n",
              "          (conv2): Conv2d(64, 64, kernel_size=(3, 3), stride=(1, 1), padding=(1, 1), bias=False)\n",
              "          (bn2): FrozenBatchNorm2d(64, eps=0.0)\n",
              "          (conv3): Conv2d(64, 256, kernel_size=(1, 1), stride=(1, 1), bias=False)\n",
              "          (bn3): FrozenBatchNorm2d(256, eps=0.0)\n",
              "          (relu): ReLU(inplace=True)\n",
              "        )\n",
              "        (2): Bottleneck(\n",
              "          (conv1): Conv2d(256, 64, kernel_size=(1, 1), stride=(1, 1), bias=False)\n",
              "          (bn1): FrozenBatchNorm2d(64, eps=0.0)\n",
              "          (conv2): Conv2d(64, 64, kernel_size=(3, 3), stride=(1, 1), padding=(1, 1), bias=False)\n",
              "          (bn2): FrozenBatchNorm2d(64, eps=0.0)\n",
              "          (conv3): Conv2d(64, 256, kernel_size=(1, 1), stride=(1, 1), bias=False)\n",
              "          (bn3): FrozenBatchNorm2d(256, eps=0.0)\n",
              "          (relu): ReLU(inplace=True)\n",
              "        )\n",
              "      )\n",
              "      (layer2): Sequential(\n",
              "        (0): Bottleneck(\n",
              "          (conv1): Conv2d(256, 128, kernel_size=(1, 1), stride=(1, 1), bias=False)\n",
              "          (bn1): FrozenBatchNorm2d(128, eps=0.0)\n",
              "          (conv2): Conv2d(128, 128, kernel_size=(3, 3), stride=(2, 2), padding=(1, 1), bias=False)\n",
              "          (bn2): FrozenBatchNorm2d(128, eps=0.0)\n",
              "          (conv3): Conv2d(128, 512, kernel_size=(1, 1), stride=(1, 1), bias=False)\n",
              "          (bn3): FrozenBatchNorm2d(512, eps=0.0)\n",
              "          (relu): ReLU(inplace=True)\n",
              "          (downsample): Sequential(\n",
              "            (0): Conv2d(256, 512, kernel_size=(1, 1), stride=(2, 2), bias=False)\n",
              "            (1): FrozenBatchNorm2d(512, eps=0.0)\n",
              "          )\n",
              "        )\n",
              "        (1): Bottleneck(\n",
              "          (conv1): Conv2d(512, 128, kernel_size=(1, 1), stride=(1, 1), bias=False)\n",
              "          (bn1): FrozenBatchNorm2d(128, eps=0.0)\n",
              "          (conv2): Conv2d(128, 128, kernel_size=(3, 3), stride=(1, 1), padding=(1, 1), bias=False)\n",
              "          (bn2): FrozenBatchNorm2d(128, eps=0.0)\n",
              "          (conv3): Conv2d(128, 512, kernel_size=(1, 1), stride=(1, 1), bias=False)\n",
              "          (bn3): FrozenBatchNorm2d(512, eps=0.0)\n",
              "          (relu): ReLU(inplace=True)\n",
              "        )\n",
              "        (2): Bottleneck(\n",
              "          (conv1): Conv2d(512, 128, kernel_size=(1, 1), stride=(1, 1), bias=False)\n",
              "          (bn1): FrozenBatchNorm2d(128, eps=0.0)\n",
              "          (conv2): Conv2d(128, 128, kernel_size=(3, 3), stride=(1, 1), padding=(1, 1), bias=False)\n",
              "          (bn2): FrozenBatchNorm2d(128, eps=0.0)\n",
              "          (conv3): Conv2d(128, 512, kernel_size=(1, 1), stride=(1, 1), bias=False)\n",
              "          (bn3): FrozenBatchNorm2d(512, eps=0.0)\n",
              "          (relu): ReLU(inplace=True)\n",
              "        )\n",
              "        (3): Bottleneck(\n",
              "          (conv1): Conv2d(512, 128, kernel_size=(1, 1), stride=(1, 1), bias=False)\n",
              "          (bn1): FrozenBatchNorm2d(128, eps=0.0)\n",
              "          (conv2): Conv2d(128, 128, kernel_size=(3, 3), stride=(1, 1), padding=(1, 1), bias=False)\n",
              "          (bn2): FrozenBatchNorm2d(128, eps=0.0)\n",
              "          (conv3): Conv2d(128, 512, kernel_size=(1, 1), stride=(1, 1), bias=False)\n",
              "          (bn3): FrozenBatchNorm2d(512, eps=0.0)\n",
              "          (relu): ReLU(inplace=True)\n",
              "        )\n",
              "      )\n",
              "      (layer3): Sequential(\n",
              "        (0): Bottleneck(\n",
              "          (conv1): Conv2d(512, 256, kernel_size=(1, 1), stride=(1, 1), bias=False)\n",
              "          (bn1): FrozenBatchNorm2d(256, eps=0.0)\n",
              "          (conv2): Conv2d(256, 256, kernel_size=(3, 3), stride=(2, 2), padding=(1, 1), bias=False)\n",
              "          (bn2): FrozenBatchNorm2d(256, eps=0.0)\n",
              "          (conv3): Conv2d(256, 1024, kernel_size=(1, 1), stride=(1, 1), bias=False)\n",
              "          (bn3): FrozenBatchNorm2d(1024, eps=0.0)\n",
              "          (relu): ReLU(inplace=True)\n",
              "          (downsample): Sequential(\n",
              "            (0): Conv2d(512, 1024, kernel_size=(1, 1), stride=(2, 2), bias=False)\n",
              "            (1): FrozenBatchNorm2d(1024, eps=0.0)\n",
              "          )\n",
              "        )\n",
              "        (1): Bottleneck(\n",
              "          (conv1): Conv2d(1024, 256, kernel_size=(1, 1), stride=(1, 1), bias=False)\n",
              "          (bn1): FrozenBatchNorm2d(256, eps=0.0)\n",
              "          (conv2): Conv2d(256, 256, kernel_size=(3, 3), stride=(1, 1), padding=(1, 1), bias=False)\n",
              "          (bn2): FrozenBatchNorm2d(256, eps=0.0)\n",
              "          (conv3): Conv2d(256, 1024, kernel_size=(1, 1), stride=(1, 1), bias=False)\n",
              "          (bn3): FrozenBatchNorm2d(1024, eps=0.0)\n",
              "          (relu): ReLU(inplace=True)\n",
              "        )\n",
              "        (2): Bottleneck(\n",
              "          (conv1): Conv2d(1024, 256, kernel_size=(1, 1), stride=(1, 1), bias=False)\n",
              "          (bn1): FrozenBatchNorm2d(256, eps=0.0)\n",
              "          (conv2): Conv2d(256, 256, kernel_size=(3, 3), stride=(1, 1), padding=(1, 1), bias=False)\n",
              "          (bn2): FrozenBatchNorm2d(256, eps=0.0)\n",
              "          (conv3): Conv2d(256, 1024, kernel_size=(1, 1), stride=(1, 1), bias=False)\n",
              "          (bn3): FrozenBatchNorm2d(1024, eps=0.0)\n",
              "          (relu): ReLU(inplace=True)\n",
              "        )\n",
              "        (3): Bottleneck(\n",
              "          (conv1): Conv2d(1024, 256, kernel_size=(1, 1), stride=(1, 1), bias=False)\n",
              "          (bn1): FrozenBatchNorm2d(256, eps=0.0)\n",
              "          (conv2): Conv2d(256, 256, kernel_size=(3, 3), stride=(1, 1), padding=(1, 1), bias=False)\n",
              "          (bn2): FrozenBatchNorm2d(256, eps=0.0)\n",
              "          (conv3): Conv2d(256, 1024, kernel_size=(1, 1), stride=(1, 1), bias=False)\n",
              "          (bn3): FrozenBatchNorm2d(1024, eps=0.0)\n",
              "          (relu): ReLU(inplace=True)\n",
              "        )\n",
              "        (4): Bottleneck(\n",
              "          (conv1): Conv2d(1024, 256, kernel_size=(1, 1), stride=(1, 1), bias=False)\n",
              "          (bn1): FrozenBatchNorm2d(256, eps=0.0)\n",
              "          (conv2): Conv2d(256, 256, kernel_size=(3, 3), stride=(1, 1), padding=(1, 1), bias=False)\n",
              "          (bn2): FrozenBatchNorm2d(256, eps=0.0)\n",
              "          (conv3): Conv2d(256, 1024, kernel_size=(1, 1), stride=(1, 1), bias=False)\n",
              "          (bn3): FrozenBatchNorm2d(1024, eps=0.0)\n",
              "          (relu): ReLU(inplace=True)\n",
              "        )\n",
              "        (5): Bottleneck(\n",
              "          (conv1): Conv2d(1024, 256, kernel_size=(1, 1), stride=(1, 1), bias=False)\n",
              "          (bn1): FrozenBatchNorm2d(256, eps=0.0)\n",
              "          (conv2): Conv2d(256, 256, kernel_size=(3, 3), stride=(1, 1), padding=(1, 1), bias=False)\n",
              "          (bn2): FrozenBatchNorm2d(256, eps=0.0)\n",
              "          (conv3): Conv2d(256, 1024, kernel_size=(1, 1), stride=(1, 1), bias=False)\n",
              "          (bn3): FrozenBatchNorm2d(1024, eps=0.0)\n",
              "          (relu): ReLU(inplace=True)\n",
              "        )\n",
              "      )\n",
              "      (layer4): Sequential(\n",
              "        (0): Bottleneck(\n",
              "          (conv1): Conv2d(1024, 512, kernel_size=(1, 1), stride=(1, 1), bias=False)\n",
              "          (bn1): FrozenBatchNorm2d(512, eps=0.0)\n",
              "          (conv2): Conv2d(512, 512, kernel_size=(3, 3), stride=(2, 2), padding=(1, 1), bias=False)\n",
              "          (bn2): FrozenBatchNorm2d(512, eps=0.0)\n",
              "          (conv3): Conv2d(512, 2048, kernel_size=(1, 1), stride=(1, 1), bias=False)\n",
              "          (bn3): FrozenBatchNorm2d(2048, eps=0.0)\n",
              "          (relu): ReLU(inplace=True)\n",
              "          (downsample): Sequential(\n",
              "            (0): Conv2d(1024, 2048, kernel_size=(1, 1), stride=(2, 2), bias=False)\n",
              "            (1): FrozenBatchNorm2d(2048, eps=0.0)\n",
              "          )\n",
              "        )\n",
              "        (1): Bottleneck(\n",
              "          (conv1): Conv2d(2048, 512, kernel_size=(1, 1), stride=(1, 1), bias=False)\n",
              "          (bn1): FrozenBatchNorm2d(512, eps=0.0)\n",
              "          (conv2): Conv2d(512, 512, kernel_size=(3, 3), stride=(1, 1), padding=(1, 1), bias=False)\n",
              "          (bn2): FrozenBatchNorm2d(512, eps=0.0)\n",
              "          (conv3): Conv2d(512, 2048, kernel_size=(1, 1), stride=(1, 1), bias=False)\n",
              "          (bn3): FrozenBatchNorm2d(2048, eps=0.0)\n",
              "          (relu): ReLU(inplace=True)\n",
              "        )\n",
              "        (2): Bottleneck(\n",
              "          (conv1): Conv2d(2048, 512, kernel_size=(1, 1), stride=(1, 1), bias=False)\n",
              "          (bn1): FrozenBatchNorm2d(512, eps=0.0)\n",
              "          (conv2): Conv2d(512, 512, kernel_size=(3, 3), stride=(1, 1), padding=(1, 1), bias=False)\n",
              "          (bn2): FrozenBatchNorm2d(512, eps=0.0)\n",
              "          (conv3): Conv2d(512, 2048, kernel_size=(1, 1), stride=(1, 1), bias=False)\n",
              "          (bn3): FrozenBatchNorm2d(2048, eps=0.0)\n",
              "          (relu): ReLU(inplace=True)\n",
              "        )\n",
              "      )\n",
              "    )\n",
              "    (fpn): FeaturePyramidNetwork(\n",
              "      (inner_blocks): ModuleList(\n",
              "        (0): Conv2dNormActivation(\n",
              "          (0): Conv2d(256, 256, kernel_size=(1, 1), stride=(1, 1))\n",
              "        )\n",
              "        (1): Conv2dNormActivation(\n",
              "          (0): Conv2d(512, 256, kernel_size=(1, 1), stride=(1, 1))\n",
              "        )\n",
              "        (2): Conv2dNormActivation(\n",
              "          (0): Conv2d(1024, 256, kernel_size=(1, 1), stride=(1, 1))\n",
              "        )\n",
              "        (3): Conv2dNormActivation(\n",
              "          (0): Conv2d(2048, 256, kernel_size=(1, 1), stride=(1, 1))\n",
              "        )\n",
              "      )\n",
              "      (layer_blocks): ModuleList(\n",
              "        (0-3): 4 x Conv2dNormActivation(\n",
              "          (0): Conv2d(256, 256, kernel_size=(3, 3), stride=(1, 1), padding=(1, 1))\n",
              "        )\n",
              "      )\n",
              "      (extra_blocks): LastLevelMaxPool()\n",
              "    )\n",
              "  )\n",
              "  (rpn): RegionProposalNetwork(\n",
              "    (anchor_generator): AnchorGenerator()\n",
              "    (head): RPNHead(\n",
              "      (conv): Sequential(\n",
              "        (0): Conv2dNormActivation(\n",
              "          (0): Conv2d(256, 256, kernel_size=(3, 3), stride=(1, 1), padding=(1, 1))\n",
              "          (1): ReLU(inplace=True)\n",
              "        )\n",
              "      )\n",
              "      (cls_logits): Conv2d(256, 3, kernel_size=(1, 1), stride=(1, 1))\n",
              "      (bbox_pred): Conv2d(256, 12, kernel_size=(1, 1), stride=(1, 1))\n",
              "    )\n",
              "  )\n",
              "  (roi_heads): RoIHeads(\n",
              "    (box_roi_pool): MultiScaleRoIAlign(featmap_names=['0', '1', '2', '3'], output_size=(7, 7), sampling_ratio=2)\n",
              "    (box_head): TwoMLPHead(\n",
              "      (fc6): Linear(in_features=12544, out_features=1024, bias=True)\n",
              "      (fc7): Linear(in_features=1024, out_features=1024, bias=True)\n",
              "    )\n",
              "    (box_predictor): FastRCNNPredictor(\n",
              "      (cls_score): Linear(in_features=1024, out_features=23, bias=True)\n",
              "      (bbox_pred): Linear(in_features=1024, out_features=92, bias=True)\n",
              "    )\n",
              "  )\n",
              ")"
            ]
          },
          "metadata": {},
          "execution_count": 21
        }
      ],
      "source": [
        "from torchvision.models.detection import fasterrcnn_resnet50_fpn, FasterRCNN_ResNet50_FPN_Weights\n",
        "\n",
        "model = torchvision.models.detection.fasterrcnn_resnet50_fpn(weights=FasterRCNN_ResNet50_FPN_Weights.DEFAULT)\n",
        "\n",
        "NUM_CLASSES=len(index2name)  # Add 1 to classify including background class\n",
        "IN_FEATURES = model.roi_heads.box_predictor.cls_score.in_features # the number of input features for the classification head of the pre-trained Faster R-CNN model. \n",
        "\n",
        "model.roi_heads.box_predictor = FastRCNNPredictor(IN_FEATURES, NUM_CLASSES)\n",
        "model.to(DEVICE)"
      ]
    },
    {
      "cell_type": "markdown",
      "metadata": {
        "id": "tIdj6Mipnpdm"
      },
      "source": [
        "## Training\n",
        "Training is performed using the prepared data and the constructed model.\n",
        "The parameters are adjusted using back-propagation to reduce this error.\n",
        "1. `optimizer` uses Stochastic Gradient Descent (SGD) optimizer.\n",
        " - MOMENTUM helps the optimizer accelerate the convergence and avoid local minima.\n",
        " - The WEIGHT_DECAY (L2 regularization) helps prevent overfitting by penalizing large weights.\n",
        "\n",
        "2. `lr_scheduler` adjusts the learning rate during training. The `StepLR` scheduler updates the learning rate periodically based on the number of epochs, following a step-wise decay schedule. \n",
        " - STEP_SIZE is the number of epochs between learning rate adjustments.\n",
        " - GAMMA is the multiplicative factor (0, 1) by which the learning rate will be reduced at each step. \n"
      ]
    },
    {
      "cell_type": "markdown",
      "metadata": {
        "id": "Y_0GlMDthzFT"
      },
      "source": [
        "## Evaluation\n",
        "\n",
        "### Metrics\n",
        "https://torchmetrics.readthedocs.io/en/stable/detection/mean_average_precision.html\n",
        "![ev](https://manalelaidouni.github.io/assets/img/pexels/Detections_IoU_edit1-401ab064-29c4-4e74-8b34-b79b7b5cb6eb.png)\n",
        "\n",
        "- **[Primary] Mean Average Precision (mAP)**: mAP is the mean of the average precision scores for all object classes in the dataset. AP is  the area under the precision-recall curve for a particular class. \n",
        "- **Precision (P)**: ratio of true positives and all positive predictions. P =  TP / (TP + FP)\n",
        "- **Recall (R)**: ratio of true positives and all positive ground truth. R = TP / (TP + FN)\n",
        "- **F1 Score**: Harmonic mean of precision and recall. F1 = 2(P·R)/(P + R).\n",
        "- **Intersection over Union (IoU)**, a measure of the overlap between two bounding boxes (the predicted box and the ground truth box), determines if a prediction is a true positive or a false positive. A predicted bounding box is considered a TP if it has an IoU value above a certain threshold with a ground truth bounding box and has the correct class label. The threshold is usually 0.5.    \n",
        "\n",
        "\n",
        "### Challenge\n",
        "It's hard to draw precision-recall curve.\n"
      ]
    },
    {
      "cell_type": "markdown",
      "source": [
        "### Predict The Test Aata"
      ],
      "metadata": {
        "id": "ODZFizlIxAwT"
      }
    },
    {
      "cell_type": "code",
      "execution_count": 22,
      "metadata": {
        "id": "FJMoGCMNj4LD"
      },
      "outputs": [],
      "source": [
        "def get_evadata(data_loader):\n",
        "    model.eval()  # Set the model to evaluation mode\n",
        "    all_preds = []\n",
        "    all_targets = []\n",
        "\n",
        "    with torch.no_grad():\n",
        "        for images, targets in data_loader:\n",
        "            images = list(image.to(DEVICE) for image in images)\n",
        "            targets = [{k: v.to(DEVICE) for k, v in t.items()} for t in targets]\n",
        "\n",
        "            predictions = model(images)\n",
        "\n",
        "            for pred, target in zip(predictions, targets):\n",
        "                all_preds.append(pred)\n",
        "                all_targets.append(target)\n",
        "    return all_preds,all_targets"
      ]
    },
    {
      "cell_type": "markdown",
      "source": [
        "### Transformation Function for Evalulation\n",
        "The precision, recall and f1 are calculated when score>0.5, since we plan to use the box and class results that have scores above 0.5."
      ],
      "metadata": {
        "id": "LDW6OD34wfT7"
      }
    },
    {
      "cell_type": "code",
      "source": [
        "SCORE_THRESHOLD = 0.5\n",
        "IOU_THRESHOULD = 0.5"
      ],
      "metadata": {
        "id": "6mMk5HwZxQnM"
      },
      "execution_count": 23,
      "outputs": []
    },
    {
      "cell_type": "code",
      "source": [
        "def transform_eva(pred, target):\n",
        "    boxes,labels,scores = [],[],[]\n",
        "\n",
        "    for i, score in enumerate(pred['scores']):\n",
        "        if score > SCORE_THRESHOLD:  # Extract scores greater than 0.5\n",
        "            boxes.append(pred['boxes'][i].cpu().tolist())\n",
        "            labels.append(pred['labels'][i].cpu().tolist())\n",
        "            scores.append(pred['scores'][i].cpu().tolist())\n",
        "    \n",
        "    if len(boxes)==0:\n",
        "        boxes.append([0,0,0,0])\n",
        "    if len(labels)==0:\n",
        "        labels.append(0)\n",
        "    if len(scores)==0:\n",
        "        scores.append(0)\n",
        "                \n",
        "    pred_boxes = np.array(boxes)\n",
        "    pred_labels = np.array(labels)\n",
        "    pred_scores = np.array(scores)\n",
        "\n",
        "    gt_boxes = target['boxes'].cpu().numpy()\n",
        "    gt_labels = target['labels'].cpu().numpy()\n",
        "\n",
        "    return (pred_boxes, pred_labels, pred_scores),(gt_boxes,gt_labels)"
      ],
      "metadata": {
        "id": "tF622PSJvVFJ"
      },
      "execution_count": 24,
      "outputs": []
    },
    {
      "cell_type": "markdown",
      "source": [
        "### Calculate TP, FP, FN\n",
        "1. Obtain the ground-truth bounding boxes and their corresponding class labels.\n",
        "2. Obtain the predicted bounding boxes, their class labels, and their confidence scores from the object detection model.\n",
        "3. For each predicted bounding box, find the ground-truth bounding box with the highest IoU, considering only those with the same class label.\n",
        "4. If the highest IoU is greater than or equal to the threshold, mark the pair as a true positive (TP). If not, mark the prediction as a false positive (FP).\n",
        "Keep track of the matched ground-truth bounding boxes.\n",
        "5. At the end of the process, count the number of ground-truth bounding boxes that were not matched. These are the false negatives (FN)."
      ],
      "metadata": {
        "id": "q-ecrbQwwQzS"
      }
    },
    {
      "cell_type": "code",
      "execution_count": 25,
      "metadata": {
        "id": "5LrMJyqL1tgE"
      },
      "outputs": [],
      "source": [
        "from torchvision.ops import box_iou\n",
        "import numpy as np\n",
        "\n",
        "def evaluate_model(model, all_preds,all_targets):\n",
        "    # Initialize variables for computing evaluation metrics\n",
        "    tp, fp, fn = 0, 0, 0\n",
        "    \n",
        "    eva_preds=[]\n",
        "    for pred, target in zip(all_preds, all_targets):\n",
        "        (pred_boxes, pred_labels, pred_scores),(gt_boxes,gt_labels)=transform_eva(pred, target)\n",
        "        # eva_preds is for the mAP calculation\n",
        "        eva_pred=dict()\n",
        "        eva_pred['boxes']=torch.tensor(pred_boxes).to(DEVICE)\n",
        "        eva_pred['labels']=torch.tensor(pred_labels).to(DEVICE)\n",
        "        eva_pred['scores']=torch.tensor(pred_scores).to(DEVICE)\n",
        "        eva_preds.append(eva_pred)\n",
        "\n",
        "        iou_matrix = box_iou(torch.tensor(pred_boxes), torch.tensor(gt_boxes))# return Tensor[Num_Row of Box1, Num_Row of Box2]\n",
        "        iou_matrix = iou_matrix.cpu().numpy()\n",
        "\n",
        "        for j, pred_box in enumerate(pred_boxes):\n",
        "            max_iou = np.max(iou_matrix[j],0) # find the matching box with the largest IoU value of the original box\n",
        "            max_index = np.argmax(iou_matrix[j]) # corresponding index\n",
        "            if max_iou >= IOU_THRESHOULD and pred_labels[j] == gt_labels[max_index]: #IoU > threshold and class is correct\n",
        "                tp += 1\n",
        "            else:\n",
        "                fp += 1\n",
        "        for k, gt_label in enumerate(gt_labels):\n",
        "            if gt_label not in pred_labels:\n",
        "                fn += 1\n",
        "\n",
        "\n",
        "    precision = tp / (tp + fp)\n",
        "    recall = tp / (tp + fn)\n",
        "    f1 = 2 * (precision * recall) / (precision + recall)\n",
        "\n",
        "    return precision, recall, f1, eva_preds"
      ]
    },
    {
      "cell_type": "markdown",
      "source": [
        "## Put Together"
      ],
      "metadata": {
        "id": "upL9S-ZGJa2n"
      }
    },
    {
      "cell_type": "code",
      "execution_count": 27,
      "metadata": {
        "id": "kffitDislwg1",
        "colab": {
          "base_uri": "https://localhost:8080/",
          "height": 918
        },
        "outputId": "2be735db-1b9c-4dd0-b9de-17930698e3f3"
      },
      "outputs": [
        {
          "output_type": "stream",
          "name": "stdout",
          "text": [
            "Epoch:, 01/02 | Batch: 000/1144 | Loss:, 3.5960\n",
            "Epoch:, 01/02 | Batch: 100/1144 | Loss:, 0.6392\n",
            "Epoch:, 01/02 | Batch: 200/1144 | Loss:, 0.5951\n",
            "Epoch:, 01/02 | Batch: 300/1144 | Loss:, 0.5503\n",
            "Epoch:, 01/02 | Batch: 400/1144 | Loss:, 0.3399\n",
            "Epoch:, 01/02 | Batch: 500/1144 | Loss:, 0.3968\n",
            "Epoch:, 01/02 | Batch: 600/1144 | Loss:, 0.4587\n",
            "Epoch:, 01/02 | Batch: 700/1144 | Loss:, 0.2419\n",
            "Epoch:, 01/02 | Batch: 800/1144 | Loss:, 0.2337\n",
            "Epoch:, 01/02 | Batch: 900/1144 | Loss:, 0.2291\n",
            "Epoch:, 01/02 | Batch: 1000/1144 | Loss:, 0.1327\n",
            "Epoch:, 01/02 | Batch: 1100/1144 | Loss:, 0.4755\n",
            "Time elapsed: 34.10 min\n",
            "Epoch:, 02/02 | Batch: 000/1144 | Loss:, 0.3511\n",
            "Epoch:, 02/02 | Batch: 100/1144 | Loss:, 0.2181\n",
            "Epoch:, 02/02 | Batch: 200/1144 | Loss:, 0.1284\n",
            "Epoch:, 02/02 | Batch: 300/1144 | Loss:, 0.2003\n",
            "Epoch:, 02/02 | Batch: 400/1144 | Loss:, 0.1800\n",
            "Epoch:, 02/02 | Batch: 500/1144 | Loss:, 0.2947\n",
            "Epoch:, 02/02 | Batch: 600/1144 | Loss:, 0.2711\n",
            "Epoch:, 02/02 | Batch: 700/1144 | Loss:, 0.1998\n",
            "Epoch:, 02/02 | Batch: 800/1144 | Loss:, 0.2952\n",
            "Epoch:, 02/02 | Batch: 900/1144 | Loss:, 0.3356\n",
            "Epoch:, 02/02 | Batch: 1000/1144 | Loss:, 0.2718\n",
            "Epoch:, 02/02 | Batch: 1100/1144 | Loss:, 0.2410\n",
            "Time elapsed: 64.81 min\n",
            "Total Training Time: 64.81 min\n"
          ]
        },
        {
          "output_type": "display_data",
          "data": {
            "text/plain": [
              "<Figure size 640x480 with 1 Axes>"
            ],
            "image/png": "[encoded data removed]"
          },
          "metadata": {}
        }
      ],
      "source": [
        "params = [p for p in model.parameters() if p.requires_grad]\n",
        "# The list comprehension iterates over all the parameters in the model \n",
        "# and selects only those that have requires_grad set to True. \n",
        "# These are the parameters that will be updated during the training process.\n",
        "optimizer = torch.optim.SGD(params, \n",
        "                            lr=LEARNING_RATE, \n",
        "                            momentum=MOMENTUM, \n",
        "                            weight_decay=WEIGHT_DECAY)\n",
        "lr_scheduler = torch.optim.lr_scheduler.StepLR(optimizer, \n",
        "                                               step_size=STEP_SIZE, \n",
        "                                               gamma=GAMMA) \n",
        "\n",
        "import time\n",
        "start_time = time.time()\n",
        "losses = []\n",
        "NUM_TRAIN = len(data_loader_train)\n",
        "for epoch in range(EPOCH):\n",
        "    model.train()  # train model\n",
        "    for i, (image, target) in enumerate(data_loader_train):\n",
        "        image = list(image.to(DEVICE) for image in image) # The model can process both a single image and a list (or batch) of images. \n",
        "        target = [{k: v.to(DEVICE) for k, v in t.items()} for t in target] # Target is a list with dictionary as an element\n",
        "\n",
        "        loss_dic = model(image, target) # The model returned scores, bbox_deltas\n",
        "        loss = sum(loss for loss in loss_dic.values())  # Calculate the sum of errors\n",
        "\n",
        "        # Backward pass and optimization\n",
        "        optimizer.zero_grad()\n",
        "        loss.backward()\n",
        "        optimizer.step()\n",
        "\n",
        "        if i%100 == 0:  # Progress is displayed every 100 times\n",
        "            print(f\"Epoch:, {epoch+1:02d}/{EPOCH:02d}\",  \n",
        "                  f\"| Batch: {i:03d}/{NUM_TRAIN:03d}\",  \n",
        "                  f\"| Loss:, {loss.item():.4f}\") \n",
        "            losses.append(loss.item())\n",
        "    print(f'Time elapsed: {(time.time() - start_time)/60:.2f} min')\n",
        "    # Update the learning rate\n",
        "    lr_scheduler.step()\n",
        "print(f'Total Training Time: {(time.time() - start_time)/60:.2f} min')\n",
        "\n",
        "plt.plot(losses)\n",
        "plt.ylabel('Losses')\n",
        "plt.xlabel('Iteration')\n",
        "plt.show()"
      ]
    },
    {
      "cell_type": "code",
      "source": [
        "all_preds_train,all_targets_train = get_evadata(data_loader_train)\n",
        "precision_train, recall_train, f1_train, eva_preds_train = evaluate_model(model, all_preds_train,all_targets_train)\n",
        "print(f'TRAIN\\nPrecision: {precision_train:0.4f}\\nRecall: {recall_train:0.4f}\\nF1 Score: {f1_train:0.4f}')\n",
        "metric_train = MeanAveragePrecision()\n",
        "metric_train.update(eva_preds_train, all_targets_train)\n",
        "from pprint import pprint\n",
        "pprint(metric_train.compute())\n",
        "\n",
        "all_preds_test,all_targets_test = get_evadata(data_loader_test)\n",
        "precision_test, recall_test, f1_test, eva_preds_test = evaluate_model(model, all_preds_test, all_targets_test)\n",
        "print(f'\\nTEST\\nPrecision: {precision_test:0.4f}\\nRecall: {recall_test:0.4f}\\nF1 Score: {f1_test:0.4f}')\n",
        "metric_test = MeanAveragePrecision()\n",
        "metric_test.update(eva_preds_test, all_targets_test)\n",
        "pprint(metric_test.compute())"
      ],
      "metadata": {
        "id": "Y8S89J_7hO5O",
        "colab": {
          "base_uri": "https://localhost:8080/"
        },
        "outputId": "8f284ddf-f372-4e49-e622-5a50f4901252"
      },
      "execution_count": 28,
      "outputs": [
        {
          "output_type": "stream",
          "name": "stdout",
          "text": [
            "TRAIN\n",
            "Precision: 0.6640\n",
            "Recall: 0.9587\n",
            "F1 Score: 0.7846\n",
            "{'map': tensor(0.5301),\n",
            " 'map_50': tensor(0.7961),\n",
            " 'map_75': tensor(0.6116),\n",
            " 'map_large': tensor(0.5628),\n",
            " 'map_medium': tensor(0.4901),\n",
            " 'map_per_class': tensor(-1.),\n",
            " 'map_small': tensor(0.2946),\n",
            " 'mar_1': tensor(0.4257),\n",
            " 'mar_10': tensor(0.6139),\n",
            " 'mar_100': tensor(0.6196),\n",
            " 'mar_100_per_class': tensor(-1.),\n",
            " 'mar_large': tensor(0.6550),\n",
            " 'mar_medium': tensor(0.5781),\n",
            " 'mar_small': tensor(0.3675)}\n",
            "\n",
            "TEST\n",
            "Precision: 0.6168\n",
            "Recall: 0.9242\n",
            "F1 Score: 0.7398\n",
            "{'map': tensor(0.4344),\n",
            " 'map_50': tensor(0.6860),\n",
            " 'map_75': tensor(0.4794),\n",
            " 'map_large': tensor(0.4880),\n",
            " 'map_medium': tensor(0.3357),\n",
            " 'map_per_class': tensor(-1.),\n",
            " 'map_small': tensor(0.1534),\n",
            " 'mar_1': tensor(0.3757),\n",
            " 'mar_10': tensor(0.5296),\n",
            " 'mar_100': tensor(0.5331),\n",
            " 'mar_100_per_class': tensor(-1.),\n",
            " 'mar_large': tensor(0.5892),\n",
            " 'mar_medium': tensor(0.4428),\n",
            " 'mar_small': tensor(0.2234)}\n"
          ]
        }
      ]
    },
    {
      "cell_type": "markdown",
      "metadata": {
        "id": "XyL1gR1Cnv1t"
      },
      "source": [
        "## Using Trained Models\n",
        "### Predict on one image\n",
        "\n",
        "The trained model is used to make predictions.\n",
        "At this point we do not consider the target score, so you will see a large number of bounding boxes and labels."
      ]
    },
    {
      "cell_type": "code",
      "execution_count": null,
      "metadata": {
        "id": "iNTJQyH9l2P_"
      },
      "outputs": [],
      "source": [
        "\n",
        "dataiter = iter(data_loader_test)  # iterator\n",
        "image, target = next(dataiter)  # retrieve a batch\n",
        "\n",
        "image = list(image.to(DEVICE) for image in image)\n",
        "\n",
        "model.eval()\n",
        "predictions = model(image)\n",
        "\n",
        "image = (image[0]*255).to(torch.uint8).cpu() \n",
        "# print(predictions)\n",
        "\n",
        "# image = (image[0]*255).to(torch.uint8).cpu() \n",
        "# boxes = predictions[0][\"boxes\"].cpu()\n",
        "# labels = predictions[0][\"labels\"].cpu().detach().numpy()\n",
        "# labels = np.where(labels>=len(index2name), 0, labels)  # 0 if the label is out of range.\n",
        "# names = [index2name[label.item()] for label in labels]\n",
        "\n",
        "# print(names)\n",
        "# show_boxes(image, boxes, names)\n"
      ]
    },
    {
      "cell_type": "markdown",
      "metadata": {
        "id": "JxlMuL1qn0VR"
      },
      "source": [
        "### Prediction result\n",
        "Filter the boxes with scores above 0.5.\n"
      ]
    },
    {
      "cell_type": "code",
      "execution_count": null,
      "metadata": {
        "id": "QuPIdgKzl4qS"
      },
      "outputs": [],
      "source": [
        "\n",
        "boxes = []\n",
        "names = []\n",
        "\n",
        "# print(predictions)\n",
        "# print(list(target))\n",
        "\n",
        "(pred_boxes, pred_labels, pred_scores),(gt_boxes,gt_labels)=transform_eva(predictions[0],list(target)[0])\n",
        "\n",
        "if max(pred_scores)<=0.5:\n",
        "    max_idx = np.argmax(np.array(pred_scores))\n",
        "\n",
        "    box = pred_boxes[max_idx]\n",
        "    boxes.append(list(box))\n",
        "    label = pred_labels[max_idx]\n",
        "    names.append(index2name[label])\n",
        "else:\n",
        "    for i, box in enumerate(pred_boxes):\n",
        "        score = pred_scores[i]\n",
        "        box = pred_boxes[i]\n",
        "        label = pred_labels[i]\n",
        "        if score > 0.5:  # Extract scores greater than 0.5\n",
        "            if label >= len(index2name):  # 0 if the label is out of range.\n",
        "                label = 0\n",
        "            name = index2name[label]\n",
        "            names.append(name)\n",
        "            boxes.append(box)\n",
        "\n",
        "boxes = torch.tensor(boxes)\n",
        "\n",
        "show_boxes(image, boxes, names)"
      ]
    },
    {
      "cell_type": "markdown",
      "source": [
        "### Coresponding ground true.\n"
      ],
      "metadata": {
        "id": "8mAtK98XdoNX"
      }
    },
    {
      "cell_type": "code",
      "execution_count": null,
      "metadata": {
        "id": "C9okt1TtU2H0"
      },
      "outputs": [],
      "source": [
        "# gt_names=[]\n",
        "# for lable in gt_labels:\n",
        "#     gt_names.append(index2name[label])\n",
        "# show_boxes(image,torch.tensor(list(gt_boxes)),gt_names)"
      ]
    },
    {
      "cell_type": "code",
      "source": [],
      "metadata": {
        "id": "wbc8j4bgCDCt"
      },
      "execution_count": null,
      "outputs": []
    }
  ],
  "metadata": {
    "accelerator": "GPU",
    "colab": {
      "provenance": [],
      "authorship_tag": "ABX9TyPASExMKgvlj7f6Jyw0E7/r",
      "include_colab_link": true
    },
    "gpuClass": "standard",
    "kernelspec": {
      "display_name": "Python 3",
      "name": "python3"
    },
    "language_info": {
      "name": "python"
    }
  },
  "nbformat": 4,
  "nbformat_minor": 0
}