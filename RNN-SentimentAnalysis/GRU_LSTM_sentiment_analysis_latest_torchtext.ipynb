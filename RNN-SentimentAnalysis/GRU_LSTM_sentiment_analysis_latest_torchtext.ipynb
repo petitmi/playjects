{
  "cells": [
    {
      "cell_type": "markdown",
      "metadata": {
        "id": "view-in-github",
        "colab_type": "text"
      },
      "source": [
        "<a href=\"https://colab.research.google.com/github/petitmi/Deep_learning-Sequential_data/blob/main/GRU_LSTM_sentiment_analysis_latest_torchtext.ipynb\" target=\"_parent\"><img src=\"https://colab.research.google.com/assets/colab-badge.svg\" alt=\"Open In Colab\"/></a>"
      ]
    },
    {
      "cell_type": "markdown",
      "metadata": {
        "id": "KH80PJNJcUfi"
      },
      "source": [
        "#Deep Learning On Sequential Data"
      ]
    },
    {
      "cell_type": "markdown",
      "metadata": {
        "id": "ow5wuhTmeiTK"
      },
      "source": [
        "I will use custom CSV text dataset for training a simple RNN for sentiment classification (here: a binary classification problem with two labels, positive and negative) using LSTM (Long Short Term Memory) cells and GRU Cells."
      ]
    },
    {
      "cell_type": "code",
      "execution_count": 80,
      "metadata": {
        "colab": {
          "base_uri": "https://localhost:8080/"
        },
        "id": "HdNkULzceZln",
        "outputId": "dac7d180-a1f8-4ba4-8844-ba2021fc9524"
      },
      "outputs": [
        {
          "output_type": "stream",
          "name": "stdout",
          "text": [
            "Drive already mounted at /content/drive; to attempt to forcibly remount, call drive.mount(\"/content/drive\", force_remount=True).\n",
            "/content/drive/MyDrive/586\n"
          ]
        }
      ],
      "source": [
        "from google.colab import drive\n",
        "drive.mount('/content/drive')\n",
        "%cd '/content/drive/MyDrive/586'\n",
        "# !ls \n"
      ]
    },
    {
      "cell_type": "code",
      "execution_count": 82,
      "metadata": {
        "colab": {
          "base_uri": "https://localhost:8080/"
        },
        "id": "UO0h61fNythI",
        "outputId": "40985ab7-32d3-479b-cf3b-a3fe5f579eaf"
      },
      "outputs": [
        {
          "output_type": "stream",
          "name": "stdout",
          "text": [
            "Looking in indexes: https://pypi.org/simple, https://us-python.pkg.dev/colab-wheels/public/simple/\n",
            "Requirement already satisfied: torch in /usr/local/lib/python3.9/dist-packages (2.0.0+cu118)\n",
            "Requirement already satisfied: triton==2.0.0 in /usr/local/lib/python3.9/dist-packages (from torch) (2.0.0)\n",
            "Requirement already satisfied: jinja2 in /usr/local/lib/python3.9/dist-packages (from torch) (3.1.2)\n",
            "Requirement already satisfied: typing-extensions in /usr/local/lib/python3.9/dist-packages (from torch) (4.5.0)\n",
            "Requirement already satisfied: filelock in /usr/local/lib/python3.9/dist-packages (from torch) (3.11.0)\n",
            "Requirement already satisfied: sympy in /usr/local/lib/python3.9/dist-packages (from torch) (1.11.1)\n",
            "Requirement already satisfied: networkx in /usr/local/lib/python3.9/dist-packages (from torch) (3.1)\n",
            "Requirement already satisfied: lit in /usr/local/lib/python3.9/dist-packages (from triton==2.0.0->torch) (16.0.1)\n",
            "Requirement already satisfied: cmake in /usr/local/lib/python3.9/dist-packages (from triton==2.0.0->torch) (3.25.2)\n",
            "Requirement already satisfied: MarkupSafe>=2.0 in /usr/local/lib/python3.9/dist-packages (from jinja2->torch) (2.1.2)\n",
            "Requirement already satisfied: mpmath>=0.19 in /usr/local/lib/python3.9/dist-packages (from sympy->torch) (1.3.0)\n",
            "Looking in indexes: https://pypi.org/simple, https://us-python.pkg.dev/colab-wheels/public/simple/\n",
            "Requirement already satisfied: torchtext in /usr/local/lib/python3.9/dist-packages (0.15.1)\n",
            "Requirement already satisfied: numpy in /usr/local/lib/python3.9/dist-packages (from torchtext) (1.22.4)\n",
            "Requirement already satisfied: tqdm in /usr/local/lib/python3.9/dist-packages (from torchtext) (4.65.0)\n",
            "Requirement already satisfied: requests in /usr/local/lib/python3.9/dist-packages (from torchtext) (2.27.1)\n",
            "Requirement already satisfied: torch==2.0.0 in /usr/local/lib/python3.9/dist-packages (from torchtext) (2.0.0+cu118)\n",
            "Requirement already satisfied: torchdata==0.6.0 in /usr/local/lib/python3.9/dist-packages (from torchtext) (0.6.0)\n",
            "Requirement already satisfied: networkx in /usr/local/lib/python3.9/dist-packages (from torch==2.0.0->torchtext) (3.1)\n",
            "Requirement already satisfied: jinja2 in /usr/local/lib/python3.9/dist-packages (from torch==2.0.0->torchtext) (3.1.2)\n",
            "Requirement already satisfied: triton==2.0.0 in /usr/local/lib/python3.9/dist-packages (from torch==2.0.0->torchtext) (2.0.0)\n",
            "Requirement already satisfied: typing-extensions in /usr/local/lib/python3.9/dist-packages (from torch==2.0.0->torchtext) (4.5.0)\n",
            "Requirement already satisfied: sympy in /usr/local/lib/python3.9/dist-packages (from torch==2.0.0->torchtext) (1.11.1)\n",
            "Requirement already satisfied: filelock in /usr/local/lib/python3.9/dist-packages (from torch==2.0.0->torchtext) (3.11.0)\n",
            "Requirement already satisfied: urllib3>=1.25 in /usr/local/lib/python3.9/dist-packages (from torchdata==0.6.0->torchtext) (1.26.15)\n",
            "Requirement already satisfied: cmake in /usr/local/lib/python3.9/dist-packages (from triton==2.0.0->torch==2.0.0->torchtext) (3.25.2)\n",
            "Requirement already satisfied: lit in /usr/local/lib/python3.9/dist-packages (from triton==2.0.0->torch==2.0.0->torchtext) (16.0.1)\n",
            "Requirement already satisfied: idna<4,>=2.5 in /usr/local/lib/python3.9/dist-packages (from requests->torchtext) (3.4)\n",
            "Requirement already satisfied: certifi>=2017.4.17 in /usr/local/lib/python3.9/dist-packages (from requests->torchtext) (2022.12.7)\n",
            "Requirement already satisfied: charset-normalizer~=2.0.0 in /usr/local/lib/python3.9/dist-packages (from requests->torchtext) (2.0.12)\n",
            "Requirement already satisfied: MarkupSafe>=2.0 in /usr/local/lib/python3.9/dist-packages (from jinja2->torch==2.0.0->torchtext) (2.1.2)\n",
            "Requirement already satisfied: mpmath>=0.19 in /usr/local/lib/python3.9/dist-packages (from sympy->torch==2.0.0->torchtext) (1.3.0)\n"
          ]
        }
      ],
      "source": [
        "import locale\n",
        "def getpreferredencoding(do_setlocale = True):\n",
        "    return \"UTF-8\"\n",
        "locale.getpreferredencoding = getpreferredencoding\n",
        "!pip install torch --upgrade\n",
        "!pip install torchtext --upgrade"
      ]
    },
    {
      "cell_type": "code",
      "execution_count": 83,
      "metadata": {
        "id": "HFK22pmTcUfr"
      },
      "outputs": [],
      "source": [
        "import numpy as np \n",
        "import pandas as pd # data processing, CSV file I/O (e.g. pd.read_csv)\n",
        "import torch\n",
        "import torch.nn as nn\n",
        "import torch.nn.functional as F\n",
        "# from nltk.corpus import stopwords \n",
        "from collections import Counter\n",
        "import string\n",
        "import re\n",
        "import seaborn as sns\n",
        "from tqdm import tqdm\n",
        "import matplotlib.pyplot as plt\n",
        "from torch.utils.data import TensorDataset, DataLoader\n",
        "from torch.utils.data.dataset import random_split\n"
      ]
    },
    {
      "cell_type": "markdown",
      "metadata": {
        "id": "12UCAcsMexDY"
      },
      "source": [
        "The following cells will download the IMDB movie review dataset (http://ai.stanford.edu/~amaas/data/sentiment/) for positive-negative sentiment classification in as CSV-formatted file:"
      ]
    },
    {
      "cell_type": "code",
      "execution_count": 84,
      "metadata": {
        "colab": {
          "base_uri": "https://localhost:8080/",
          "height": 206
        },
        "id": "RYT9Cn_qcUfv",
        "outputId": "3e37b27f-519e-4321-c5bc-88050e85b5d2"
      },
      "outputs": [
        {
          "output_type": "execute_result",
          "data": {
            "text/plain": [
              "                                              review  sentiment\n",
              "0  In 1974, the teenager Martha Moxley (Maggie Gr...          1\n",
              "1  OK... so... I really like Kris Kristofferson a...          0\n",
              "2  ***SPOILER*** Do not read this, if you think a...          0\n",
              "3  hi for all the people who have seen this wonde...          1\n",
              "4  I recently bought the DVD, forgetting just how...          0"
            ],
            "text/html": [
              "\n",
              "  <div id=\"df-3d91dd37-c74b-4fa0-9037-51314bf11be8\">\n",
              "    <div class=\"colab-df-container\">\n",
              "      <div>\n",
              "<style scoped>\n",
              "    .dataframe tbody tr th:only-of-type {\n",
              "        vertical-align: middle;\n",
              "    }\n",
              "\n",
              "    .dataframe tbody tr th {\n",
              "        vertical-align: top;\n",
              "    }\n",
              "\n",
              "    .dataframe thead th {\n",
              "        text-align: right;\n",
              "    }\n",
              "</style>\n",
              "<table border=\"1\" class=\"dataframe\">\n",
              "  <thead>\n",
              "    <tr style=\"text-align: right;\">\n",
              "      <th></th>\n",
              "      <th>review</th>\n",
              "      <th>sentiment</th>\n",
              "    </tr>\n",
              "  </thead>\n",
              "  <tbody>\n",
              "    <tr>\n",
              "      <th>0</th>\n",
              "      <td>In 1974, the teenager Martha Moxley (Maggie Gr...</td>\n",
              "      <td>1</td>\n",
              "    </tr>\n",
              "    <tr>\n",
              "      <th>1</th>\n",
              "      <td>OK... so... I really like Kris Kristofferson a...</td>\n",
              "      <td>0</td>\n",
              "    </tr>\n",
              "    <tr>\n",
              "      <th>2</th>\n",
              "      <td>***SPOILER*** Do not read this, if you think a...</td>\n",
              "      <td>0</td>\n",
              "    </tr>\n",
              "    <tr>\n",
              "      <th>3</th>\n",
              "      <td>hi for all the people who have seen this wonde...</td>\n",
              "      <td>1</td>\n",
              "    </tr>\n",
              "    <tr>\n",
              "      <th>4</th>\n",
              "      <td>I recently bought the DVD, forgetting just how...</td>\n",
              "      <td>0</td>\n",
              "    </tr>\n",
              "  </tbody>\n",
              "</table>\n",
              "</div>\n",
              "      <button class=\"colab-df-convert\" onclick=\"convertToInteractive('df-3d91dd37-c74b-4fa0-9037-51314bf11be8')\"\n",
              "              title=\"Convert this dataframe to an interactive table.\"\n",
              "              style=\"display:none;\">\n",
              "        \n",
              "  <svg xmlns=\"http://www.w3.org/2000/svg\" height=\"24px\"viewBox=\"0 0 24 24\"\n",
              "       width=\"24px\">\n",
              "    <path d=\"M0 0h24v24H0V0z\" fill=\"none\"/>\n",
              "    <path d=\"M18.56 5.44l.94 2.06.94-2.06 2.06-.94-2.06-.94-.94-2.06-.94 2.06-2.06.94zm-11 1L8.5 8.5l.94-2.06 2.06-.94-2.06-.94L8.5 2.5l-.94 2.06-2.06.94zm10 10l.94 2.06.94-2.06 2.06-.94-2.06-.94-.94-2.06-.94 2.06-2.06.94z\"/><path d=\"M17.41 7.96l-1.37-1.37c-.4-.4-.92-.59-1.43-.59-.52 0-1.04.2-1.43.59L10.3 9.45l-7.72 7.72c-.78.78-.78 2.05 0 2.83L4 21.41c.39.39.9.59 1.41.59.51 0 1.02-.2 1.41-.59l7.78-7.78 2.81-2.81c.8-.78.8-2.07 0-2.86zM5.41 20L4 18.59l7.72-7.72 1.47 1.35L5.41 20z\"/>\n",
              "  </svg>\n",
              "      </button>\n",
              "      \n",
              "  <style>\n",
              "    .colab-df-container {\n",
              "      display:flex;\n",
              "      flex-wrap:wrap;\n",
              "      gap: 12px;\n",
              "    }\n",
              "\n",
              "    .colab-df-convert {\n",
              "      background-color: #E8F0FE;\n",
              "      border: none;\n",
              "      border-radius: 50%;\n",
              "      cursor: pointer;\n",
              "      display: none;\n",
              "      fill: #1967D2;\n",
              "      height: 32px;\n",
              "      padding: 0 0 0 0;\n",
              "      width: 32px;\n",
              "    }\n",
              "\n",
              "    .colab-df-convert:hover {\n",
              "      background-color: #E2EBFA;\n",
              "      box-shadow: 0px 1px 2px rgba(60, 64, 67, 0.3), 0px 1px 3px 1px rgba(60, 64, 67, 0.15);\n",
              "      fill: #174EA6;\n",
              "    }\n",
              "\n",
              "    [theme=dark] .colab-df-convert {\n",
              "      background-color: #3B4455;\n",
              "      fill: #D2E3FC;\n",
              "    }\n",
              "\n",
              "    [theme=dark] .colab-df-convert:hover {\n",
              "      background-color: #434B5C;\n",
              "      box-shadow: 0px 1px 3px 1px rgba(0, 0, 0, 0.15);\n",
              "      filter: drop-shadow(0px 1px 2px rgba(0, 0, 0, 0.3));\n",
              "      fill: #FFFFFF;\n",
              "    }\n",
              "  </style>\n",
              "\n",
              "      <script>\n",
              "        const buttonEl =\n",
              "          document.querySelector('#df-3d91dd37-c74b-4fa0-9037-51314bf11be8 button.colab-df-convert');\n",
              "        buttonEl.style.display =\n",
              "          google.colab.kernel.accessAllowed ? 'block' : 'none';\n",
              "\n",
              "        async function convertToInteractive(key) {\n",
              "          const element = document.querySelector('#df-3d91dd37-c74b-4fa0-9037-51314bf11be8');\n",
              "          const dataTable =\n",
              "            await google.colab.kernel.invokeFunction('convertToInteractive',\n",
              "                                                     [key], {});\n",
              "          if (!dataTable) return;\n",
              "\n",
              "          const docLinkHtml = 'Like what you see? Visit the ' +\n",
              "            '<a target=\"_blank\" href=https://colab.research.google.com/notebooks/data_table.ipynb>data table notebook</a>'\n",
              "            + ' to learn more about interactive tables.';\n",
              "          element.innerHTML = '';\n",
              "          dataTable['output_type'] = 'display_data';\n",
              "          await google.colab.output.renderOutput(dataTable, element);\n",
              "          const docLink = document.createElement('div');\n",
              "          docLink.innerHTML = docLinkHtml;\n",
              "          element.appendChild(docLink);\n",
              "        }\n",
              "      </script>\n",
              "    </div>\n",
              "  </div>\n",
              "  "
            ]
          },
          "metadata": {},
          "execution_count": 84
        }
      ],
      "source": [
        "# !gunzip -f movie_data.csv.gz \n",
        "base_csv = 'data/movie_data.csv'\n",
        "df = pd.read_csv(base_csv)\n",
        "df.head()"
      ]
    },
    {
      "cell_type": "markdown",
      "metadata": {
        "id": "LOc5b5bBcUfw"
      },
      "source": [
        "### Splitting to train and test data"
      ]
    },
    {
      "cell_type": "markdown",
      "metadata": {
        "id": "7P0zO7JAcUfw"
      },
      "source": [
        "I will split data to train and test initially."
      ]
    },
    {
      "cell_type": "code",
      "execution_count": 85,
      "metadata": {
        "colab": {
          "base_uri": "https://localhost:8080/"
        },
        "id": "kvV9DoDFcUfx",
        "outputId": "8c9f2551-755e-4b2f-c2a7-7070cd0e821c"
      },
      "outputs": [
        {
          "output_type": "stream",
          "name": "stdout",
          "text": [
            "Num Train: 37500\n",
            "Num Valid: 2500\n",
            "Num Test: 10000\n"
          ]
        }
      ],
      "source": [
        "RANDOM_SEED = 123\n",
        "\n",
        "import random\n",
        "raw_data=df[['sentiment','review']].values.tolist()\n",
        "train_data, valid_data, test_data = random_split(raw_data, [0.75,0.05,0.2], generator=torch.Generator().manual_seed(RANDOM_SEED))\n",
        "print(f'Num Train: {len(train_data)}')\n",
        "print(f'Num Valid: {len(valid_data)}')\n",
        "print(f'Num Test: {len(test_data)}')\n"
      ]
    },
    {
      "cell_type": "markdown",
      "metadata": {
        "id": "nl-Ef21JcUfy"
      },
      "source": [
        "### Analysing sentiment"
      ]
    },
    {
      "cell_type": "markdown",
      "metadata": {
        "id": "CIIMlnEecUfz"
      },
      "source": [
        "### Tockenization\n",
        "\n",
        "**<font color='red'>Note</font>**: I will use the latest version(i.e. `0.15.0`) of `torchtext` instead of the example(i.e. `0.9.0`). \n",
        "- Use `data.utils.get_tokenizer` instead of `data.Field`\n",
        "- `vocab` is also different\n",
        "- Padding process are differene\n"
      ]
    },
    {
      "cell_type": "code",
      "execution_count": 86,
      "metadata": {
        "id": "PQZyiEzDcUf0"
      },
      "outputs": [],
      "source": [
        "from torchtext.data.utils import get_tokenizer\n",
        "\n",
        "tokenizer = get_tokenizer('basic_english')"
      ]
    },
    {
      "cell_type": "code",
      "execution_count": 87,
      "metadata": {
        "id": "XdcrNUnTgSb_"
      },
      "outputs": [],
      "source": [
        "from collections import Counter\n",
        "from torchtext.vocab import vocab\n",
        "counter = Counter()\n",
        "for line in df['review']:\n",
        "    counter.update(tokenizer(line))\n",
        "vocab = vocab(counter, min_freq=1, specials=('<unk>', '<BOS>', '<EOS>', '<PAD>'))"
      ]
    },
    {
      "cell_type": "code",
      "execution_count": 88,
      "metadata": {
        "colab": {
          "base_uri": "https://localhost:8080/"
        },
        "id": "x7tITXHtiJyX",
        "outputId": "d3837f44-4271-4589-d475-6dfd5092400c"
      },
      "outputs": [
        {
          "output_type": "stream",
          "name": "stdout",
          "text": [
            "The length of the new vocab is 147160\n",
            "The index of '<BOS>' is 1\n",
            "The token at index 2 is <EOS>\n"
          ]
        }
      ],
      "source": [
        "print(\"The length of the new vocab is\", len(vocab))\n",
        "new_stoi = vocab.get_stoi()\n",
        "print(\"The index of '<BOS>' is\", new_stoi['<BOS>'])\n",
        "new_itos = vocab.get_itos()\n",
        "print(\"The token at index 2 is\", new_itos[2])"
      ]
    },
    {
      "cell_type": "code",
      "execution_count": 89,
      "metadata": {
        "colab": {
          "base_uri": "https://localhost:8080/"
        },
        "id": "5bJvSZFIiGuH",
        "outputId": "7830b63f-56a0-472d-daa4-03173febc940"
      },
      "outputs": [
        {
          "output_type": "stream",
          "name": "stdout",
          "text": [
            "input to the text_transform: this is me\n",
            "output of the text_transform: [1, 181, 49, 272, 2]\n"
          ]
        }
      ],
      "source": [
        "text_transform = lambda x: [vocab['<BOS>']] + [vocab[token] for token in tokenizer(x)] + [vocab['<EOS>']]\n",
        "label_transform = lambda x: float(1) if x == 1 else 0\n",
        "\n",
        "print(\"input to the text_transform:\", 'this is me')\n",
        "print(\"output of the text_transform:\", text_transform( 'this is me'))"
      ]
    },
    {
      "cell_type": "code",
      "execution_count": 90,
      "metadata": {
        "colab": {
          "base_uri": "https://localhost:8080/"
        },
        "id": "m_H-gzvWcUf3",
        "outputId": "7362eab0-64be-4399-8c18-712643c72432"
      },
      "outputs": [
        {
          "output_type": "stream",
          "name": "stdout",
          "text": [
            "Length of vocabulary is 147160\n"
          ]
        }
      ],
      "source": [
        "print(f'Length of vocabulary is {len(vocab)}')"
      ]
    },
    {
      "cell_type": "markdown",
      "metadata": {
        "id": "z2HN2sOVcUf5"
      },
      "source": [
        "\n",
        "### Padding, batching and loading as tensor"
      ]
    },
    {
      "cell_type": "code",
      "execution_count": 91,
      "metadata": {
        "id": "r62dzUJNHmNJ"
      },
      "outputs": [],
      "source": [
        "RANDOM_SEED = 123\n",
        "torch.manual_seed(RANDOM_SEED)\n",
        "DEVICE = torch.device(\"cuda\") if torch.cuda.is_available() else torch.device(\"cpu\")\n",
        "\n",
        "# VOCABULARY_SIZE = 20000\n",
        "LEARNING_RATE = 1e-4\n",
        "BATCH_SIZE = 128\n",
        "NUM_EPOCHS = 15\n",
        "\n",
        "INPUT_DIM = len(vocab)\n",
        "EMBEDDING_DIM = 128\n",
        "HIDDEN_DIM = 256\n",
        "OUTPUT_DIM = 1\n",
        "NUM_LAYERS = 1"
      ]
    },
    {
      "cell_type": "markdown",
      "metadata": {
        "id": "8CIiNG0fh0hR"
      },
      "source": [
        "- Using `DataLoader` to load the data\n",
        "- Using `collate_fn` function when loading to implement padding"
      ]
    },
    {
      "cell_type": "code",
      "execution_count": 92,
      "metadata": {
        "id": "wxTu60fcrL8N"
      },
      "outputs": [],
      "source": [
        "\n",
        "from torch.nn.utils.rnn import pad_sequence, pack_padded_sequence\n",
        "\n",
        "def custom_collate(data): #(2)\n",
        "    inputs = [torch.tensor(text_transform(d[1])) for d in data] #(3)\n",
        "    labels = torch.tensor([label_transform(d[0]) for d in data])\n",
        "    inputs_lens = torch.tensor([len(x) for x in inputs])\n",
        "    inputs = pad_sequence(inputs, batch_first=True) #(4)\n",
        "    # inputs = [(d) for d in inputs]\n",
        "\n",
        "    return labels.to(DEVICE),inputs.to(DEVICE),inputs_lens.to(DEVICE)\n"
      ]
    },
    {
      "cell_type": "markdown",
      "metadata": {
        "id": "SzV1oNgBiP6J"
      },
      "source": [
        "Look at the outcome of this function."
      ]
    },
    {
      "cell_type": "code",
      "execution_count": 93,
      "metadata": {
        "colab": {
          "base_uri": "https://localhost:8080/"
        },
        "id": "lub7LIVCPFdu",
        "outputId": "f8871bd6-6c15-4cb1-e250-16fc0578bbfd"
      },
      "outputs": [
        {
          "output_type": "execute_result",
          "data": {
            "text/plain": [
              "(tensor([1., 1., 0.], device='cuda:0'),\n",
              " tensor([[    1, 71932,    49,  ...,  3856,    24,     2],\n",
              "         [    1,  2382, 39360,  ...,     0,     0,     0],\n",
              "         [    1, 43646,  1841,  ...,     0,     0,     0]], device='cuda:0'),\n",
              " tensor([528,  54,  59], device='cuda:0'))"
            ]
          },
          "metadata": {},
          "execution_count": 93
        }
      ],
      "source": [
        "custom_collate(list(train_data)[:3])"
      ]
    },
    {
      "cell_type": "code",
      "execution_count": 94,
      "metadata": {
        "id": "HRcU1UWVcUf6"
      },
      "outputs": [],
      "source": [
        "from torch.utils.data import DataLoader\n",
        "train_loader = DataLoader(train_data, shuffle=True, batch_size=BATCH_SIZE,collate_fn=custom_collate)\n",
        "valid_loader = DataLoader(valid_data, shuffle=True, batch_size=BATCH_SIZE,collate_fn=custom_collate)\n",
        "test_loader = DataLoader(test_data, shuffle=True, batch_size=BATCH_SIZE,collate_fn=custom_collate)"
      ]
    },
    {
      "cell_type": "markdown",
      "metadata": {
        "id": "B6mXXGqfiUvf"
      },
      "source": [
        "Have a look at the data, get one:"
      ]
    },
    {
      "cell_type": "code",
      "execution_count": 95,
      "metadata": {
        "colab": {
          "base_uri": "https://localhost:8080/"
        },
        "id": "teJYXQLGTpLM",
        "outputId": "fdad6f2f-b7d8-4772-b898-94ed710bff08"
      },
      "outputs": [
        {
          "output_type": "execute_result",
          "data": {
            "text/plain": [
              "(tensor([0., 1., 0., 0., 0., 1., 0., 1., 0., 1., 0., 1., 1., 0., 0., 1., 0., 1.,\n",
              "         1., 1., 1., 1., 0., 0., 0., 1., 0., 0., 1., 0., 0., 1., 0., 0., 0., 0.,\n",
              "         0., 0., 0., 1., 1., 0., 0., 1., 0., 1., 0., 1., 1., 0., 1., 0., 0., 0.,\n",
              "         1., 1., 1., 0., 0., 0., 0., 1., 0., 0., 0., 0., 0., 1., 0., 0., 1., 0.,\n",
              "         1., 0., 1., 1., 0., 0., 0., 0., 1., 1., 0., 0., 1., 0., 0., 1., 1., 1.,\n",
              "         0., 1., 0., 0., 0., 0., 0., 0., 1., 0., 1., 0., 1., 0., 1., 0., 0., 1.,\n",
              "         1., 0., 1., 0., 1., 0., 0., 0., 0., 0., 1., 0., 0., 0., 1., 0., 0., 0.,\n",
              "         0., 1.], device='cuda:0'),\n",
              " tensor([[    1,   181,   106,  ...,     0,     0,     0],\n",
              "         [    1,   457,   153,  ...,     0,     0,     0],\n",
              "         [    1,   181,   637,  ...,     0,     0,     0],\n",
              "         ...,\n",
              "         [    1,   258,  4717,  ...,     0,     0,     0],\n",
              "         [    1,    50,   371,  ...,     0,     0,     0],\n",
              "         [    1,  1055, 10006,  ...,     0,     0,     0]], device='cuda:0'),\n",
              " tensor([  46,  558,  196,  358,  197,  391,  164,  168,  150,  160,  572,  194,\n",
              "          175,  144,  181,  299,  254,  127,  523,   60,  149,  171, 1096,  138,\n",
              "          296,   75,  175,  113,  207,  163,  171,  169,  309,  166,  884,  684,\n",
              "          222,  143,  340,  234,  253,  421,  199,  149,  341,  183,  276,  112,\n",
              "          428, 1110,  260,  278,  293,   83,  180, 1060,  230,  322,  162,  182,\n",
              "          195,  337,  533,  177,  569,  733,  126,  138,  410,  298,  157,  240,\n",
              "          529,  412,  348,  470,  250,  331,  243,  327,   95,  154,  130,  371,\n",
              "          170,  195,  350,  145,  228,  537,  143,  196,  156,  114,  200,  442,\n",
              "          174,  147,   97,  378,  300,  240,  413,   99,  484,  272,  443,  231,\n",
              "          163, 1030,   84,  244,   66,  333,  164,   69,  150,  156,  307,  220,\n",
              "          122,  167,  137,  191,  234,  144,  268,  167], device='cuda:0'))"
            ]
          },
          "metadata": {},
          "execution_count": 95
        }
      ],
      "source": [
        "next(iter(train_loader))"
      ]
    },
    {
      "cell_type": "markdown",
      "metadata": {
        "id": "rUlZ-EGOcUf6"
      },
      "source": [
        "### Model\n",
        "\n",
        "Put a parameter to control the model, user can set `model = LSTM` or `GRU`."
      ]
    },
    {
      "cell_type": "code",
      "execution_count": 96,
      "metadata": {
        "id": "ganMeTXCcUf7"
      },
      "outputs": [],
      "source": [
        "import torch.nn as nn\n",
        "\n",
        "class RNN(nn.Module):\n",
        "    def __init__(self, input_dim, embedding_dim, hidden_dim, output_dim, num_layers,model='LSTM'):\n",
        "        \n",
        "        super().__init__()\n",
        "        #Here is a preliminary model using LSTM cell\n",
        "        #The primary goal of this lab is to vary the dimensions of the embeddings and see the results\n",
        "        #The second task is to use a another RNN cell such as GRU and perform parameter tuning and report the results.\n",
        "        self.model = model\n",
        "        self.embedding = nn.Embedding(input_dim, embedding_dim)\n",
        "        if self.model =='LSTM':\n",
        "            self.rnn = nn.LSTM(embedding_dim, hidden_dim, batch_first=True)\n",
        "        elif self.model == 'GRU':\n",
        "            self.rnn = nn.GRU(embedding_dim, hidden_dim, batch_first=True)\n",
        "        elif self.model =='Explored-LSTM':\n",
        "            self.rnn = nn.LSTM(embedding_dim, hidden_dim,num_layers, batch_first=True)\n",
        "\n",
        "        self.fc = nn.Linear(hidden_dim, output_dim)\n",
        "\n",
        "    def forward(self, text, text_length):\n",
        "        embedded = self.embedding(text)\n",
        "        packed = pack_padded_sequence(embedded, text_length.to('cpu'),batch_first=True,enforce_sorted=False) # Related to the previous pad_sequence\n",
        "        if self.model =='LSTM' or self.model =='Explored-LSTM':\n",
        "            packed_output, (hidden, cell)  = self.rnn(packed)\n",
        "        elif self.model == 'GRU':\n",
        "            packed_output, hidden = self.rnn(packed)\n",
        "\n",
        "        return self.fc(hidden[-1].squeeze(0)).view(-1) # Use the last layer's hidden state\n",
        "        \n",
        "        # print(packed_output, (hidden, cell))\n",
        "         "
      ]
    },
    {
      "cell_type": "markdown",
      "source": [
        "#### LSTM"
      ],
      "metadata": {
        "id": "zVn_vkEJ5PRV"
      }
    },
    {
      "cell_type": "code",
      "execution_count": 97,
      "metadata": {
        "id": "0wxDieHjcUf8"
      },
      "outputs": [],
      "source": [
        "model_LSTM = RNN(INPUT_DIM, EMBEDDING_DIM, HIDDEN_DIM, OUTPUT_DIM,NUM_LAYERS,'LSTM')\n",
        "model_LSTM = model_LSTM.to(DEVICE)\n",
        "optimizer_LSTM = torch.optim.Adam(model_LSTM.parameters(), lr=LEARNING_RATE)"
      ]
    },
    {
      "cell_type": "markdown",
      "source": [
        "#### GRU"
      ],
      "metadata": {
        "id": "lVLWhpC25Rqa"
      }
    },
    {
      "cell_type": "code",
      "source": [
        "model_GRU = RNN(INPUT_DIM, EMBEDDING_DIM, HIDDEN_DIM, OUTPUT_DIM,NUM_LAYERS,'GRU')\n",
        "model_GRU = model_GRU.to(DEVICE)\n",
        "optimizer_GRU = torch.optim.Adam(model_GRU.parameters(), lr=LEARNING_RATE)"
      ],
      "metadata": {
        "id": "l3QKVvoUsm4q"
      },
      "execution_count": 98,
      "outputs": []
    },
    {
      "cell_type": "markdown",
      "source": [
        "#### Explored LSTM\n",
        "Changed num_layers to 2"
      ],
      "metadata": {
        "id": "2wJ3Ev1Q5Tvd"
      }
    },
    {
      "cell_type": "code",
      "source": [
        "\n",
        "# LEARNING_RATE = 1e-4\n",
        "# BATCH_SIZE = 128\n",
        "# NUM_EPOCHS = 15\n",
        "\n",
        "# INPUT_DIM = len(vocab)\n",
        "# EMBEDDING_DIM = 128\n",
        "# HIDDEN_DIM = 256\n",
        "# OUTPUT_DIM = 1\n",
        "# NUM_LAYERS = 1\n",
        "model_LSTM_E = RNN(input_dim=len(vocab), embedding_dim=128, hidden_dim = 256, output_dim = 1,num_layers=2,model='Explored-LSTM')\n",
        "model_LSTM_E = model_LSTM_E.to(DEVICE)\n",
        "optimizer_LSTM_E = torch.optim.Adam(model_LSTM_E.parameters(), lr=LEARNING_RATE)"
      ],
      "metadata": {
        "id": "pEK_RprA1_56"
      },
      "execution_count": 99,
      "outputs": []
    },
    {
      "cell_type": "markdown",
      "metadata": {
        "id": "-ULTozuQcUf8"
      },
      "source": [
        "### Training"
      ]
    },
    {
      "cell_type": "code",
      "execution_count": 100,
      "metadata": {
        "id": "C4WtwKxTcUf8"
      },
      "outputs": [],
      "source": [
        "def compute_binary_accuracy(model, data_loader, device):\n",
        "    model.eval()\n",
        "    correct_pred, num_examples = 0, 0\n",
        "    with torch.no_grad():\n",
        "        for idx, (label, text, text_length) in enumerate(data_loader):\n",
        "            logits = model(text,text_length)\n",
        "            predicted_labels = (torch.sigmoid(logits) > 0.5).long()\n",
        "            num_examples += label.size(0)#change\n",
        "            correct_pred += (predicted_labels.long() == label.long()).sum()#change\n",
        "        return correct_pred.float()/num_examples * 100"
      ]
    },
    {
      "cell_type": "code",
      "execution_count": 101,
      "metadata": {
        "id": "LtFPuxqJcUf9"
      },
      "outputs": [],
      "source": [
        "import time\n",
        "def model_train(model,optimizer,num_epochs):\n",
        "    start_time = time.time()\n",
        "    costs=[]\n",
        "    train_accs=[]\n",
        "    valid_accs=[]\n",
        "    for epoch in range(num_epochs):\n",
        "        model.train()\n",
        "        for idx, (label, text,text_length) in enumerate(train_loader):\n",
        "            \n",
        "            ### FORWARD AND BACK PROP\n",
        "            logits = model(text, text_length)\n",
        "            cost = F.binary_cross_entropy_with_logits(logits, label)\n",
        "            optimizer.zero_grad()\n",
        "            cost.backward()\n",
        "            \n",
        "            ### UPDATE MODEL PARAMETERS\n",
        "            optimizer.step()\n",
        "            \n",
        "            ### LOGGING\n",
        "            if not idx % 50:\n",
        "                print(f'Epoch: {epoch+1:03d}/{num_epochs:03d} | '\n",
        "                    f'Batch {idx:03d}/{len(train_loader):03d} | '\n",
        "                    f'Cost: {cost:.4f}')\n",
        "\n",
        "        with torch.set_grad_enabled(False):\n",
        "            costs.append(cost)\n",
        "            training_acc = compute_binary_accuracy(model, train_loader, DEVICE)\n",
        "            valid_acc = compute_binary_accuracy(model, valid_loader, DEVICE)\n",
        "            train_accs.append(training_acc)\n",
        "            valid_accs.append(valid_acc)\n",
        "\n",
        "            print(f'training accuracy: '\n",
        "                f'{training_acc:.2f}%'\n",
        "                f'\\nvalid accuracy: '\n",
        "                f'{valid_acc:.2f}%')\n",
        "            \n",
        "        print(f'Time elapsed: {(time.time() - start_time)/60:.2f} min')\n",
        "        \n",
        "    print(f'Total Training Time: {(time.time() - start_time)/60:.2f} min')\n",
        "    print(f'Test accuracy: {compute_binary_accuracy(model, test_loader, DEVICE):.2f}%')\n",
        "    return costs,train_accs,valid_accs"
      ]
    },
    {
      "cell_type": "code",
      "source": [
        "#LSTM\n",
        "costs_LSTM,train_accs_LSTM,valid_accs_LSTM = model_train(model_LSTM, optimizer_LSTM, NUM_EPOCHS)"
      ],
      "metadata": {
        "colab": {
          "base_uri": "https://localhost:8080/"
        },
        "id": "8FFLT2Huvt9p",
        "outputId": "544874e2-e947-4bc9-cb65-2663ada323c6"
      },
      "execution_count": 102,
      "outputs": [
        {
          "output_type": "stream",
          "name": "stdout",
          "text": [
            "Epoch: 001/015 | Batch 000/293 | Cost: 0.6924\n",
            "Epoch: 001/015 | Batch 050/293 | Cost: 0.6812\n",
            "Epoch: 001/015 | Batch 100/293 | Cost: 0.6919\n",
            "Epoch: 001/015 | Batch 150/293 | Cost: 0.6876\n",
            "Epoch: 001/015 | Batch 200/293 | Cost: 0.6663\n",
            "Epoch: 001/015 | Batch 250/293 | Cost: 0.5996\n",
            "training accuracy: 71.97%\n",
            "valid accuracy: 70.76%\n",
            "Time elapsed: 0.83 min\n",
            "Epoch: 002/015 | Batch 000/293 | Cost: 0.5501\n",
            "Epoch: 002/015 | Batch 050/293 | Cost: 0.5554\n",
            "Epoch: 002/015 | Batch 100/293 | Cost: 0.5326\n",
            "Epoch: 002/015 | Batch 150/293 | Cost: 0.5316\n",
            "Epoch: 002/015 | Batch 200/293 | Cost: 0.4948\n",
            "Epoch: 002/015 | Batch 250/293 | Cost: 0.4329\n",
            "training accuracy: 79.45%\n",
            "valid accuracy: 76.40%\n",
            "Time elapsed: 1.63 min\n",
            "Epoch: 003/015 | Batch 000/293 | Cost: 0.4088\n",
            "Epoch: 003/015 | Batch 050/293 | Cost: 0.5005\n",
            "Epoch: 003/015 | Batch 100/293 | Cost: 0.4597\n",
            "Epoch: 003/015 | Batch 150/293 | Cost: 0.4176\n",
            "Epoch: 003/015 | Batch 200/293 | Cost: 0.4086\n",
            "Epoch: 003/015 | Batch 250/293 | Cost: 0.3616\n",
            "training accuracy: 83.31%\n",
            "valid accuracy: 80.52%\n",
            "Time elapsed: 2.42 min\n",
            "Epoch: 004/015 | Batch 000/293 | Cost: 0.4045\n",
            "Epoch: 004/015 | Batch 050/293 | Cost: 0.3802\n",
            "Epoch: 004/015 | Batch 100/293 | Cost: 0.4117\n",
            "Epoch: 004/015 | Batch 150/293 | Cost: 0.2922\n",
            "Epoch: 004/015 | Batch 200/293 | Cost: 0.2948\n",
            "Epoch: 004/015 | Batch 250/293 | Cost: 0.4261\n",
            "training accuracy: 85.95%\n",
            "valid accuracy: 82.88%\n",
            "Time elapsed: 3.22 min\n",
            "Epoch: 005/015 | Batch 000/293 | Cost: 0.4024\n",
            "Epoch: 005/015 | Batch 050/293 | Cost: 0.3712\n",
            "Epoch: 005/015 | Batch 100/293 | Cost: 0.3686\n",
            "Epoch: 005/015 | Batch 150/293 | Cost: 0.3359\n",
            "Epoch: 005/015 | Batch 200/293 | Cost: 0.2252\n",
            "Epoch: 005/015 | Batch 250/293 | Cost: 0.2753\n",
            "training accuracy: 86.97%\n",
            "valid accuracy: 84.48%\n",
            "Time elapsed: 4.02 min\n",
            "Epoch: 006/015 | Batch 000/293 | Cost: 0.3695\n",
            "Epoch: 006/015 | Batch 050/293 | Cost: 0.2821\n",
            "Epoch: 006/015 | Batch 100/293 | Cost: 0.2926\n",
            "Epoch: 006/015 | Batch 150/293 | Cost: 0.3592\n",
            "Epoch: 006/015 | Batch 200/293 | Cost: 0.2926\n",
            "Epoch: 006/015 | Batch 250/293 | Cost: 0.4447\n",
            "training accuracy: 89.06%\n",
            "valid accuracy: 85.24%\n",
            "Time elapsed: 4.81 min\n",
            "Epoch: 007/015 | Batch 000/293 | Cost: 0.2994\n",
            "Epoch: 007/015 | Batch 050/293 | Cost: 0.2779\n",
            "Epoch: 007/015 | Batch 100/293 | Cost: 0.2704\n",
            "Epoch: 007/015 | Batch 150/293 | Cost: 0.2560\n",
            "Epoch: 007/015 | Batch 200/293 | Cost: 0.2359\n",
            "Epoch: 007/015 | Batch 250/293 | Cost: 0.3471\n",
            "training accuracy: 90.07%\n",
            "valid accuracy: 86.32%\n",
            "Time elapsed: 5.60 min\n",
            "Epoch: 008/015 | Batch 000/293 | Cost: 0.3082\n",
            "Epoch: 008/015 | Batch 050/293 | Cost: 0.3586\n",
            "Epoch: 008/015 | Batch 100/293 | Cost: 0.2369\n",
            "Epoch: 008/015 | Batch 150/293 | Cost: 0.2191\n",
            "Epoch: 008/015 | Batch 200/293 | Cost: 0.2854\n",
            "Epoch: 008/015 | Batch 250/293 | Cost: 0.2925\n",
            "training accuracy: 91.04%\n",
            "valid accuracy: 86.40%\n",
            "Time elapsed: 6.40 min\n",
            "Epoch: 009/015 | Batch 000/293 | Cost: 0.2572\n",
            "Epoch: 009/015 | Batch 050/293 | Cost: 0.2129\n",
            "Epoch: 009/015 | Batch 100/293 | Cost: 0.1366\n",
            "Epoch: 009/015 | Batch 150/293 | Cost: 0.2407\n",
            "Epoch: 009/015 | Batch 200/293 | Cost: 0.3096\n",
            "Epoch: 009/015 | Batch 250/293 | Cost: 0.1909\n",
            "training accuracy: 91.42%\n",
            "valid accuracy: 85.96%\n",
            "Time elapsed: 7.19 min\n",
            "Epoch: 010/015 | Batch 000/293 | Cost: 0.2319\n",
            "Epoch: 010/015 | Batch 050/293 | Cost: 0.2193\n",
            "Epoch: 010/015 | Batch 100/293 | Cost: 0.2080\n",
            "Epoch: 010/015 | Batch 150/293 | Cost: 0.1904\n",
            "Epoch: 010/015 | Batch 200/293 | Cost: 0.2748\n",
            "Epoch: 010/015 | Batch 250/293 | Cost: 0.1993\n",
            "training accuracy: 90.82%\n",
            "valid accuracy: 85.88%\n",
            "Time elapsed: 7.99 min\n",
            "Epoch: 011/015 | Batch 000/293 | Cost: 0.1962\n",
            "Epoch: 011/015 | Batch 050/293 | Cost: 0.1705\n",
            "Epoch: 011/015 | Batch 100/293 | Cost: 0.2596\n",
            "Epoch: 011/015 | Batch 150/293 | Cost: 0.1096\n",
            "Epoch: 011/015 | Batch 200/293 | Cost: 0.2262\n",
            "Epoch: 011/015 | Batch 250/293 | Cost: 0.2433\n",
            "training accuracy: 93.17%\n",
            "valid accuracy: 86.92%\n",
            "Time elapsed: 8.78 min\n",
            "Epoch: 012/015 | Batch 000/293 | Cost: 0.1429\n",
            "Epoch: 012/015 | Batch 050/293 | Cost: 0.2613\n",
            "Epoch: 012/015 | Batch 100/293 | Cost: 0.1927\n",
            "Epoch: 012/015 | Batch 150/293 | Cost: 0.2218\n",
            "Epoch: 012/015 | Batch 200/293 | Cost: 0.2165\n",
            "Epoch: 012/015 | Batch 250/293 | Cost: 0.1937\n",
            "training accuracy: 93.68%\n",
            "valid accuracy: 87.40%\n",
            "Time elapsed: 9.60 min\n",
            "Epoch: 013/015 | Batch 000/293 | Cost: 0.1672\n",
            "Epoch: 013/015 | Batch 050/293 | Cost: 0.2277\n",
            "Epoch: 013/015 | Batch 100/293 | Cost: 0.1998\n",
            "Epoch: 013/015 | Batch 150/293 | Cost: 0.1887\n",
            "Epoch: 013/015 | Batch 200/293 | Cost: 0.1822\n",
            "Epoch: 013/015 | Batch 250/293 | Cost: 0.2057\n",
            "training accuracy: 93.74%\n",
            "valid accuracy: 86.76%\n",
            "Time elapsed: 10.41 min\n",
            "Epoch: 014/015 | Batch 000/293 | Cost: 0.2396\n",
            "Epoch: 014/015 | Batch 050/293 | Cost: 0.2421\n",
            "Epoch: 014/015 | Batch 100/293 | Cost: 0.1602\n",
            "Epoch: 014/015 | Batch 150/293 | Cost: 0.2515\n",
            "Epoch: 014/015 | Batch 200/293 | Cost: 0.1652\n",
            "Epoch: 014/015 | Batch 250/293 | Cost: 0.1860\n",
            "training accuracy: 94.83%\n",
            "valid accuracy: 87.88%\n",
            "Time elapsed: 11.23 min\n",
            "Epoch: 015/015 | Batch 000/293 | Cost: 0.2128\n",
            "Epoch: 015/015 | Batch 050/293 | Cost: 0.1784\n",
            "Epoch: 015/015 | Batch 100/293 | Cost: 0.1543\n",
            "Epoch: 015/015 | Batch 150/293 | Cost: 0.2253\n",
            "Epoch: 015/015 | Batch 200/293 | Cost: 0.1768\n",
            "Epoch: 015/015 | Batch 250/293 | Cost: 0.1525\n",
            "training accuracy: 95.31%\n",
            "valid accuracy: 87.52%\n",
            "Time elapsed: 12.03 min\n",
            "Total Training Time: 12.03 min\n",
            "Test accuracy: 88.21%\n"
          ]
        }
      ]
    },
    {
      "cell_type": "code",
      "source": [
        "#GRU\n",
        "costs_GRU, train_accs_GRU, valid_accs_GRU = model_train(model_GRU, optimizer_GRU,NUM_EPOCHS)"
      ],
      "metadata": {
        "colab": {
          "base_uri": "https://localhost:8080/"
        },
        "id": "J-I6xOp1tJKQ",
        "outputId": "9ec8d106-545e-4bc8-f127-6ee881638fa5"
      },
      "execution_count": 104,
      "outputs": [
        {
          "output_type": "stream",
          "name": "stdout",
          "text": [
            "Epoch: 001/015 | Batch 000/293 | Cost: 0.6966\n",
            "Epoch: 001/015 | Batch 050/293 | Cost: 0.6922\n",
            "Epoch: 001/015 | Batch 100/293 | Cost: 0.6829\n",
            "Epoch: 001/015 | Batch 150/293 | Cost: 0.6796\n",
            "Epoch: 001/015 | Batch 200/293 | Cost: 0.6615\n",
            "Epoch: 001/015 | Batch 250/293 | Cost: 0.5738\n",
            "training accuracy: 72.21%\n",
            "valid accuracy: 72.00%\n",
            "Time elapsed: 0.84 min\n",
            "Epoch: 002/015 | Batch 000/293 | Cost: 0.5970\n",
            "Epoch: 002/015 | Batch 050/293 | Cost: 0.4564\n",
            "Epoch: 002/015 | Batch 100/293 | Cost: 0.4834\n",
            "Epoch: 002/015 | Batch 150/293 | Cost: 0.5470\n",
            "Epoch: 002/015 | Batch 200/293 | Cost: 0.5043\n",
            "Epoch: 002/015 | Batch 250/293 | Cost: 0.4917\n",
            "training accuracy: 79.85%\n",
            "valid accuracy: 78.32%\n",
            "Time elapsed: 1.66 min\n",
            "Epoch: 003/015 | Batch 000/293 | Cost: 0.5123\n",
            "Epoch: 003/015 | Batch 050/293 | Cost: 0.4154\n",
            "Epoch: 003/015 | Batch 100/293 | Cost: 0.4145\n",
            "Epoch: 003/015 | Batch 150/293 | Cost: 0.3582\n",
            "Epoch: 003/015 | Batch 200/293 | Cost: 0.3651\n",
            "Epoch: 003/015 | Batch 250/293 | Cost: 0.3359\n",
            "training accuracy: 83.85%\n",
            "valid accuracy: 81.44%\n",
            "Time elapsed: 2.47 min\n",
            "Epoch: 004/015 | Batch 000/293 | Cost: 0.3832\n",
            "Epoch: 004/015 | Batch 050/293 | Cost: 0.4715\n",
            "Epoch: 004/015 | Batch 100/293 | Cost: 0.4893\n",
            "Epoch: 004/015 | Batch 150/293 | Cost: 0.4375\n",
            "Epoch: 004/015 | Batch 200/293 | Cost: 0.4158\n",
            "Epoch: 004/015 | Batch 250/293 | Cost: 0.3704\n",
            "training accuracy: 85.66%\n",
            "valid accuracy: 82.96%\n",
            "Time elapsed: 3.29 min\n",
            "Epoch: 005/015 | Batch 000/293 | Cost: 0.3325\n",
            "Epoch: 005/015 | Batch 050/293 | Cost: 0.3589\n",
            "Epoch: 005/015 | Batch 100/293 | Cost: 0.3375\n",
            "Epoch: 005/015 | Batch 150/293 | Cost: 0.2537\n",
            "Epoch: 005/015 | Batch 200/293 | Cost: 0.3064\n",
            "Epoch: 005/015 | Batch 250/293 | Cost: 0.3379\n",
            "training accuracy: 85.64%\n",
            "valid accuracy: 83.88%\n",
            "Time elapsed: 4.10 min\n",
            "Epoch: 006/015 | Batch 000/293 | Cost: 0.3600\n",
            "Epoch: 006/015 | Batch 050/293 | Cost: 0.2882\n",
            "Epoch: 006/015 | Batch 100/293 | Cost: 0.3845\n",
            "Epoch: 006/015 | Batch 150/293 | Cost: 0.4060\n",
            "Epoch: 006/015 | Batch 200/293 | Cost: 0.3382\n",
            "Epoch: 006/015 | Batch 250/293 | Cost: 0.3151\n",
            "training accuracy: 86.20%\n",
            "valid accuracy: 84.04%\n",
            "Time elapsed: 4.91 min\n",
            "Epoch: 007/015 | Batch 000/293 | Cost: 0.4011\n",
            "Epoch: 007/015 | Batch 050/293 | Cost: 0.3010\n",
            "Epoch: 007/015 | Batch 100/293 | Cost: 0.3035\n",
            "Epoch: 007/015 | Batch 150/293 | Cost: 0.3349\n",
            "Epoch: 007/015 | Batch 200/293 | Cost: 0.2958\n",
            "Epoch: 007/015 | Batch 250/293 | Cost: 0.3203\n",
            "training accuracy: 89.68%\n",
            "valid accuracy: 85.80%\n",
            "Time elapsed: 5.73 min\n",
            "Epoch: 008/015 | Batch 000/293 | Cost: 0.2479\n",
            "Epoch: 008/015 | Batch 050/293 | Cost: 0.1920\n",
            "Epoch: 008/015 | Batch 100/293 | Cost: 0.2762\n",
            "Epoch: 008/015 | Batch 150/293 | Cost: 0.3334\n",
            "Epoch: 008/015 | Batch 200/293 | Cost: 0.3125\n",
            "Epoch: 008/015 | Batch 250/293 | Cost: 0.2543\n",
            "training accuracy: 90.53%\n",
            "valid accuracy: 85.84%\n",
            "Time elapsed: 6.54 min\n",
            "Epoch: 009/015 | Batch 000/293 | Cost: 0.2755\n",
            "Epoch: 009/015 | Batch 050/293 | Cost: 0.2417\n",
            "Epoch: 009/015 | Batch 100/293 | Cost: 0.1492\n",
            "Epoch: 009/015 | Batch 150/293 | Cost: 0.2738\n",
            "Epoch: 009/015 | Batch 200/293 | Cost: 0.2042\n",
            "Epoch: 009/015 | Batch 250/293 | Cost: 0.2832\n",
            "training accuracy: 91.31%\n",
            "valid accuracy: 86.36%\n",
            "Time elapsed: 7.36 min\n",
            "Epoch: 010/015 | Batch 000/293 | Cost: 0.2540\n",
            "Epoch: 010/015 | Batch 050/293 | Cost: 0.1913\n",
            "Epoch: 010/015 | Batch 100/293 | Cost: 0.2468\n",
            "Epoch: 010/015 | Batch 150/293 | Cost: 0.2352\n",
            "Epoch: 010/015 | Batch 200/293 | Cost: 0.1717\n",
            "Epoch: 010/015 | Batch 250/293 | Cost: 0.2699\n",
            "training accuracy: 90.97%\n",
            "valid accuracy: 86.76%\n",
            "Time elapsed: 8.17 min\n",
            "Epoch: 011/015 | Batch 000/293 | Cost: 0.2017\n",
            "Epoch: 011/015 | Batch 050/293 | Cost: 0.3043\n",
            "Epoch: 011/015 | Batch 100/293 | Cost: 0.2406\n",
            "Epoch: 011/015 | Batch 150/293 | Cost: 0.2194\n",
            "Epoch: 011/015 | Batch 200/293 | Cost: 0.1836\n",
            "Epoch: 011/015 | Batch 250/293 | Cost: 0.3150\n",
            "training accuracy: 92.47%\n",
            "valid accuracy: 87.16%\n",
            "Time elapsed: 8.99 min\n",
            "Epoch: 012/015 | Batch 000/293 | Cost: 0.1826\n",
            "Epoch: 012/015 | Batch 050/293 | Cost: 0.2316\n",
            "Epoch: 012/015 | Batch 100/293 | Cost: 0.2203\n",
            "Epoch: 012/015 | Batch 150/293 | Cost: 0.2335\n",
            "Epoch: 012/015 | Batch 200/293 | Cost: 0.2661\n",
            "Epoch: 012/015 | Batch 250/293 | Cost: 0.2516\n",
            "training accuracy: 93.03%\n",
            "valid accuracy: 87.20%\n",
            "Time elapsed: 9.80 min\n",
            "Epoch: 013/015 | Batch 000/293 | Cost: 0.2376\n",
            "Epoch: 013/015 | Batch 050/293 | Cost: 0.2274\n",
            "Epoch: 013/015 | Batch 100/293 | Cost: 0.2194\n",
            "Epoch: 013/015 | Batch 150/293 | Cost: 0.1586\n",
            "Epoch: 013/015 | Batch 200/293 | Cost: 0.1702\n",
            "Epoch: 013/015 | Batch 250/293 | Cost: 0.2131\n",
            "training accuracy: 93.71%\n",
            "valid accuracy: 87.40%\n",
            "Time elapsed: 10.62 min\n",
            "Epoch: 014/015 | Batch 000/293 | Cost: 0.1905\n",
            "Epoch: 014/015 | Batch 050/293 | Cost: 0.1910\n",
            "Epoch: 014/015 | Batch 100/293 | Cost: 0.1203\n",
            "Epoch: 014/015 | Batch 150/293 | Cost: 0.1743\n",
            "Epoch: 014/015 | Batch 200/293 | Cost: 0.1620\n",
            "Epoch: 014/015 | Batch 250/293 | Cost: 0.2602\n",
            "training accuracy: 93.24%\n",
            "valid accuracy: 86.52%\n",
            "Time elapsed: 11.43 min\n",
            "Epoch: 015/015 | Batch 000/293 | Cost: 0.2347\n",
            "Epoch: 015/015 | Batch 050/293 | Cost: 0.2390\n",
            "Epoch: 015/015 | Batch 100/293 | Cost: 0.2178\n",
            "Epoch: 015/015 | Batch 150/293 | Cost: 0.1112\n",
            "Epoch: 015/015 | Batch 200/293 | Cost: 0.2172\n",
            "Epoch: 015/015 | Batch 250/293 | Cost: 0.1720\n",
            "training accuracy: 94.22%\n",
            "valid accuracy: 87.64%\n",
            "Time elapsed: 12.24 min\n",
            "Total Training Time: 12.24 min\n",
            "Test accuracy: 88.01%\n"
          ]
        }
      ]
    },
    {
      "cell_type": "code",
      "source": [
        "#LSTM-E\n",
        "costs_LSTM_E, train_accs_LSTM_E, valid_accs_LSTM_E = model_train(model_LSTM_E, optimizer_LSTM_E, 18)"
      ],
      "metadata": {
        "colab": {
          "base_uri": "https://localhost:8080/"
        },
        "id": "SeSXVgh24C30",
        "outputId": "c5275f8b-9828-4301-8e41-485f04201990"
      },
      "execution_count": 103,
      "outputs": [
        {
          "output_type": "stream",
          "name": "stdout",
          "text": [
            "Epoch: 001/015 | Batch 000/293 | Cost: 0.6966\n",
            "Epoch: 001/015 | Batch 050/293 | Cost: 0.6909\n",
            "Epoch: 001/015 | Batch 100/293 | Cost: 0.6886\n",
            "Epoch: 001/015 | Batch 150/293 | Cost: 0.6173\n",
            "Epoch: 001/015 | Batch 200/293 | Cost: 0.6011\n",
            "Epoch: 001/015 | Batch 250/293 | Cost: 0.5841\n",
            "training accuracy: 72.23%\n",
            "valid accuracy: 71.36%\n",
            "Time elapsed: 1.05 min\n",
            "Epoch: 002/015 | Batch 000/293 | Cost: 0.5589\n",
            "Epoch: 002/015 | Batch 050/293 | Cost: 0.6389\n",
            "Epoch: 002/015 | Batch 100/293 | Cost: 0.6320\n",
            "Epoch: 002/015 | Batch 150/293 | Cost: 0.5292\n",
            "Epoch: 002/015 | Batch 200/293 | Cost: 0.5545\n",
            "Epoch: 002/015 | Batch 250/293 | Cost: 0.4905\n",
            "training accuracy: 75.92%\n",
            "valid accuracy: 74.12%\n",
            "Time elapsed: 2.08 min\n",
            "Epoch: 003/015 | Batch 000/293 | Cost: 0.3985\n",
            "Epoch: 003/015 | Batch 050/293 | Cost: 0.4712\n",
            "Epoch: 003/015 | Batch 100/293 | Cost: 0.4484\n",
            "Epoch: 003/015 | Batch 150/293 | Cost: 0.4140\n",
            "Epoch: 003/015 | Batch 200/293 | Cost: 0.3685\n",
            "Epoch: 003/015 | Batch 250/293 | Cost: 0.4145\n",
            "training accuracy: 82.21%\n",
            "valid accuracy: 80.48%\n",
            "Time elapsed: 3.10 min\n",
            "Epoch: 004/015 | Batch 000/293 | Cost: 0.4198\n",
            "Epoch: 004/015 | Batch 050/293 | Cost: 0.4999\n",
            "Epoch: 004/015 | Batch 100/293 | Cost: 0.4719\n",
            "Epoch: 004/015 | Batch 150/293 | Cost: 0.3392\n",
            "Epoch: 004/015 | Batch 200/293 | Cost: 0.3767\n",
            "Epoch: 004/015 | Batch 250/293 | Cost: 0.3973\n",
            "training accuracy: 85.89%\n",
            "valid accuracy: 82.88%\n",
            "Time elapsed: 4.13 min\n",
            "Epoch: 005/015 | Batch 000/293 | Cost: 0.3441\n",
            "Epoch: 005/015 | Batch 050/293 | Cost: 0.4358\n",
            "Epoch: 005/015 | Batch 100/293 | Cost: 0.3613\n",
            "Epoch: 005/015 | Batch 150/293 | Cost: 0.3726\n",
            "Epoch: 005/015 | Batch 200/293 | Cost: 0.2866\n",
            "Epoch: 005/015 | Batch 250/293 | Cost: 0.2802\n",
            "training accuracy: 87.32%\n",
            "valid accuracy: 84.04%\n",
            "Time elapsed: 5.15 min\n",
            "Epoch: 006/015 | Batch 000/293 | Cost: 0.3011\n",
            "Epoch: 006/015 | Batch 050/293 | Cost: 0.5273\n",
            "Epoch: 006/015 | Batch 100/293 | Cost: 0.3134\n",
            "Epoch: 006/015 | Batch 150/293 | Cost: 0.3057\n",
            "Epoch: 006/015 | Batch 200/293 | Cost: 0.2464\n",
            "Epoch: 006/015 | Batch 250/293 | Cost: 0.3056\n",
            "training accuracy: 89.56%\n",
            "valid accuracy: 84.88%\n",
            "Time elapsed: 6.17 min\n",
            "Epoch: 007/015 | Batch 000/293 | Cost: 0.3044\n",
            "Epoch: 007/015 | Batch 050/293 | Cost: 0.2657\n",
            "Epoch: 007/015 | Batch 100/293 | Cost: 0.2255\n",
            "Epoch: 007/015 | Batch 150/293 | Cost: 0.2749\n",
            "Epoch: 007/015 | Batch 200/293 | Cost: 0.3321\n",
            "Epoch: 007/015 | Batch 250/293 | Cost: 0.2246\n",
            "training accuracy: 90.94%\n",
            "valid accuracy: 86.28%\n",
            "Time elapsed: 7.20 min\n",
            "Epoch: 008/015 | Batch 000/293 | Cost: 0.2275\n",
            "Epoch: 008/015 | Batch 050/293 | Cost: 0.1660\n",
            "Epoch: 008/015 | Batch 100/293 | Cost: 0.2591\n",
            "Epoch: 008/015 | Batch 150/293 | Cost: 0.2139\n",
            "Epoch: 008/015 | Batch 200/293 | Cost: 0.2929\n",
            "Epoch: 008/015 | Batch 250/293 | Cost: 0.2211\n",
            "training accuracy: 91.86%\n",
            "valid accuracy: 86.88%\n",
            "Time elapsed: 8.23 min\n",
            "Epoch: 009/015 | Batch 000/293 | Cost: 0.2773\n",
            "Epoch: 009/015 | Batch 050/293 | Cost: 0.1740\n",
            "Epoch: 009/015 | Batch 100/293 | Cost: 0.2638\n",
            "Epoch: 009/015 | Batch 150/293 | Cost: 0.1507\n",
            "Epoch: 009/015 | Batch 200/293 | Cost: 0.2393\n",
            "Epoch: 009/015 | Batch 250/293 | Cost: 0.1851\n",
            "training accuracy: 92.81%\n",
            "valid accuracy: 87.60%\n",
            "Time elapsed: 9.26 min\n",
            "Epoch: 010/015 | Batch 000/293 | Cost: 0.2147\n",
            "Epoch: 010/015 | Batch 050/293 | Cost: 0.1824\n",
            "Epoch: 010/015 | Batch 100/293 | Cost: 0.2530\n",
            "Epoch: 010/015 | Batch 150/293 | Cost: 0.1842\n",
            "Epoch: 010/015 | Batch 200/293 | Cost: 0.2199\n",
            "Epoch: 010/015 | Batch 250/293 | Cost: 0.1667\n",
            "training accuracy: 92.66%\n",
            "valid accuracy: 86.76%\n",
            "Time elapsed: 10.29 min\n",
            "Epoch: 011/015 | Batch 000/293 | Cost: 0.2331\n",
            "Epoch: 011/015 | Batch 050/293 | Cost: 0.1505\n",
            "Epoch: 011/015 | Batch 100/293 | Cost: 0.2388\n",
            "Epoch: 011/015 | Batch 150/293 | Cost: 0.3257\n",
            "Epoch: 011/015 | Batch 200/293 | Cost: 0.2355\n",
            "Epoch: 011/015 | Batch 250/293 | Cost: 0.2622\n",
            "training accuracy: 94.01%\n",
            "valid accuracy: 88.12%\n",
            "Time elapsed: 11.33 min\n",
            "Epoch: 012/015 | Batch 000/293 | Cost: 0.1175\n",
            "Epoch: 012/015 | Batch 050/293 | Cost: 0.1772\n",
            "Epoch: 012/015 | Batch 100/293 | Cost: 0.1342\n",
            "Epoch: 012/015 | Batch 150/293 | Cost: 0.2793\n",
            "Epoch: 012/015 | Batch 200/293 | Cost: 0.2705\n",
            "Epoch: 012/015 | Batch 250/293 | Cost: 0.1206\n",
            "training accuracy: 94.41%\n",
            "valid accuracy: 88.08%\n",
            "Time elapsed: 12.36 min\n",
            "Epoch: 013/015 | Batch 000/293 | Cost: 0.1041\n",
            "Epoch: 013/015 | Batch 050/293 | Cost: 0.1488\n",
            "Epoch: 013/015 | Batch 100/293 | Cost: 0.2299\n",
            "Epoch: 013/015 | Batch 150/293 | Cost: 0.1521\n",
            "Epoch: 013/015 | Batch 200/293 | Cost: 0.1761\n",
            "Epoch: 013/015 | Batch 250/293 | Cost: 0.1730\n",
            "training accuracy: 94.63%\n",
            "valid accuracy: 88.48%\n",
            "Time elapsed: 13.39 min\n",
            "Epoch: 014/015 | Batch 000/293 | Cost: 0.1542\n",
            "Epoch: 014/015 | Batch 050/293 | Cost: 0.1782\n",
            "Epoch: 014/015 | Batch 100/293 | Cost: 0.1895\n",
            "Epoch: 014/015 | Batch 150/293 | Cost: 0.1963\n",
            "Epoch: 014/015 | Batch 200/293 | Cost: 0.2343\n",
            "Epoch: 014/015 | Batch 250/293 | Cost: 0.2157\n",
            "training accuracy: 94.59%\n",
            "valid accuracy: 87.64%\n",
            "Time elapsed: 14.43 min\n",
            "Epoch: 015/015 | Batch 000/293 | Cost: 0.1704\n",
            "Epoch: 015/015 | Batch 050/293 | Cost: 0.1687\n",
            "Epoch: 015/015 | Batch 100/293 | Cost: 0.1955\n",
            "Epoch: 015/015 | Batch 150/293 | Cost: 0.1402\n",
            "Epoch: 015/015 | Batch 200/293 | Cost: 0.0959\n",
            "Epoch: 015/015 | Batch 250/293 | Cost: 0.2079\n",
            "training accuracy: 95.43%\n",
            "valid accuracy: 87.96%\n",
            "Time elapsed: 15.46 min\n",
            "Total Training Time: 15.46 min\n",
            "Test accuracy: 88.15%\n"
          ]
        }
      ]
    },
    {
      "cell_type": "markdown",
      "metadata": {
        "id": "PO7xzhrwcUgB"
      },
      "source": [
        "### Inferance"
      ]
    },
    {
      "cell_type": "code",
      "source": [
        "r_LSTM = pd.DataFrame({'costs':[x.detach().cpu().item() for x in costs_LSTM],\n",
        "                       'train_accs':[x.detach().cpu().item() for x in train_accs_LSTM],\n",
        "                       'valid_accs':[x.detach().cpu().item() for x in valid_accs_LSTM]})\n",
        "r_LSTM_E = pd.DataFrame({'costs':[x.detach().cpu().item() for x in costs_LSTM_E],\n",
        "                       'train_accs':[x.detach().cpu().item() for x in train_accs_LSTM_E],\n",
        "                       'valid_accs':[x.detach().cpu().item() for x in valid_accs_LSTM_E]})\n",
        "r_GRU = pd.DataFrame({'costs':[x.detach().cpu().item() for x in costs_GRU],\n",
        "                       'train_accs':[x.detach().cpu().item() for x in train_accs_GRU],\n",
        "                       'valid_accs':[x.detach().cpu().item() for x in valid_accs_GRU]})"
      ],
      "metadata": {
        "id": "Z3lkYDq8BMj3"
      },
      "execution_count": 141,
      "outputs": []
    },
    {
      "cell_type": "code",
      "source": [
        "print('LSTM')\n",
        "print(r_LSTM.iloc[-1,:])\n",
        "print('\\nExplored LSTM')\n",
        "print(r_LSTM_E.iloc[-1,:])\n",
        "print('\\nGRU')\n",
        "print(r_GRU.iloc[-1,:])"
      ],
      "metadata": {
        "colab": {
          "base_uri": "https://localhost:8080/"
        },
        "id": "kSbIwH8UM227",
        "outputId": "0149a468-d687-4efc-af0d-0578cef5d2c0"
      },
      "execution_count": 148,
      "outputs": [
        {
          "output_type": "stream",
          "name": "stdout",
          "text": [
            "LSTM\n",
            "costs          0.160214\n",
            "train_accs    95.309334\n",
            "valid_accs    87.519997\n",
            "Name: 14, dtype: float64\n",
            "\n",
            "Explored LSTM\n",
            "costs          0.148501\n",
            "train_accs    95.431999\n",
            "valid_accs    87.959999\n",
            "Name: 14, dtype: float64\n",
            "\n",
            "GRU\n",
            "costs          0.175244\n",
            "train_accs    94.218666\n",
            "valid_accs    87.639999\n",
            "Name: 14, dtype: float64\n"
          ]
        }
      ]
    },
    {
      "cell_type": "code",
      "source": [
        "from tables.table import Col\n",
        "import matplotlib.pyplot as plt\n",
        "plt.figure(1)\n",
        "plt.subplot(221)\n",
        "plt.plot(r_LSTM[['train_accs','valid_accs']])\n",
        "plt.title('LSTM')\n",
        "plt.grid(True)\n",
        "\n",
        "\n",
        "# log\n",
        "plt.subplot(222)\n",
        "plt.plot(r_LSTM_E[['train_accs','valid_accs']])\n",
        "plt.title('Explored LSTM')\n",
        "plt.grid(True)\n",
        "\n",
        "\n",
        "# symmetric log\n",
        "plt.subplot(223)\n",
        "plt.plot(r_GRU[['train_accs','valid_accs']])\n",
        "plt.title('GRU')\n",
        "plt.grid(True)"
      ],
      "metadata": {
        "colab": {
          "base_uri": "https://localhost:8080/",
          "height": 452
        },
        "id": "M7eFGPXWBlt9",
        "outputId": "a9fbc3f1-1434-4368-de3d-19378ec69704"
      },
      "execution_count": 143,
      "outputs": [
        {
          "output_type": "display_data",
          "data": {
            "text/plain": [
              "<Figure size 640x480 with 3 Axes>"
            ],
            "image/png": "[encoded data removed]"
          },
          "metadata": {}
        }
      ]
    },
    {
      "cell_type": "code",
      "execution_count": 105,
      "metadata": {
        "id": "_5TVc9FgEJmN"
      },
      "outputs": [],
      "source": [
        "import spacy\n",
        "# nlp = spacy.load('en')\n",
        "\n",
        "def predict_sentiment(model, sentence):\n",
        "    # based on:\n",
        "    # https://github.com/bentrevett/pytorch-sentiment-analysis/blob/\n",
        "    # master/2%20-%20Upgraded%20Sentiment%20Analysis.ipynb\n",
        "    model.eval()\n",
        "    # tokenized = [tok.text for tok in nlp.tokenizer(sentence)]\n",
        "    input = torch.tensor(text_transform(sentence)).unsqueeze(dim=1).to(DEVICE)\n",
        "    length = torch.tensor([len(input)]).to(DEVICE)\n",
        "    input = pad_sequence(input)\n",
        "    prediction = torch.sigmoid(model(input, length))\n",
        "    \n",
        "    return prediction.item()"
      ]
    },
    {
      "cell_type": "code",
      "execution_count": 152,
      "metadata": {
        "id": "b2Fi_2y-EgBU",
        "colab": {
          "base_uri": "https://localhost:8080/"
        },
        "outputId": "5fa902f1-c872-4ce1-d4e1-36c1d194933f"
      },
      "outputs": [
        {
          "output_type": "stream",
          "name": "stdout",
          "text": [
            "MODEL LSTM: 0.8334485292434692\n",
            "MODEL Explored LSTM: 0.9254704117774963\n",
            "MODEL GRU: 0.8174559473991394\n"
          ]
        }
      ],
      "source": [
        "s_input = \"I love it so much!\"\n",
        "p_LSTM = predict_sentiment(model_LSTM, s_input)\n",
        "p_LSTM_E = predict_sentiment(model_LSTM_E, s_input)\n",
        "p_GRU=predict_sentiment(model_GRU, s_input)\n",
        "print(f\"MODEL LSTM: {p_LSTM}\")\n",
        "print(f\"MODEL Explored LSTM: {p_LSTM_E}\")\n",
        "print(f\"MODEL GRU: {p_GRU}\")"
      ]
    },
    {
      "cell_type": "code",
      "execution_count": 154,
      "metadata": {
        "id": "iGe5XOylEpZR",
        "colab": {
          "base_uri": "https://localhost:8080/"
        },
        "outputId": "0c997930-f33f-4fe9-ab1e-c7c6a7b19d48"
      },
      "outputs": [
        {
          "output_type": "stream",
          "name": "stdout",
          "text": [
            "MODEL LSTM: 0.032665230333805084\n",
            "MODEL Explored LSTM: 0.026598457247018814\n",
            "MODEL GRU: 0.10575702041387558\n"
          ]
        }
      ],
      "source": [
        "s_input = \"I hate this movie. There are so many bad jokes. And the plots are designed so foolish and sucks!\"\n",
        "p_LSTM = predict_sentiment(model_LSTM, s_input)\n",
        "p_LSTM_E = predict_sentiment(model_LSTM_E, s_input)\n",
        "p_GRU=predict_sentiment(model_GRU, s_input)\n",
        "print(f\"MODEL LSTM: {p_LSTM}\")\n",
        "print(f\"MODEL Explored LSTM: {p_LSTM_E}\")\n",
        "print(f\"MODEL GRU: {p_GRU}\")"
      ]
    },
    {
      "cell_type": "markdown",
      "source": [
        "### Conclusion\n",
        "\n",
        "The LSTM with two hidden layers (i.e. Explored LSTM) is the best model with higher accuracy and lower cost. Additionally, the inference performance is also better than the other."
      ],
      "metadata": {
        "id": "xC3nyufgOGDy"
      }
    }
  ],
  "metadata": {
    "accelerator": "GPU",
    "colab": {
      "provenance": [],
      "machine_shape": "hm",
      "include_colab_link": true
    },
    "gpuClass": "premium",
    "kernelspec": {
      "display_name": "Python 3",
      "language": "python",
      "name": "python3"
    },
    "language_info": {
      "codemirror_mode": {
        "name": "ipython",
        "version": 3
      },
      "file_extension": ".py",
      "mimetype": "text/x-python",
      "name": "python",
      "nbconvert_exporter": "python",
      "pygments_lexer": "ipython3",
      "version": "3.6.4"
    }
  },
  "nbformat": 4,
  "nbformat_minor": 0
}