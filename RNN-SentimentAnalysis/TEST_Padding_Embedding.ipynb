{
  "nbformat": 4,
  "nbformat_minor": 0,
  "metadata": {
    "colab": {
      "provenance": [],
      "authorship_tag": "ABX9TyM9GsqKJX4OM53w/9LpChOE",
      "include_colab_link": true
    },
    "kernelspec": {
      "name": "python3",
      "display_name": "Python 3"
    },
    "language_info": {
      "name": "python"
    }
  },
  "cells": [
    {
      "cell_type": "markdown",
      "metadata": {
        "id": "view-in-github",
        "colab_type": "text"
      },
      "source": [
        "<a href=\"https://colab.research.google.com/github/petitmi/Deep_learning-Sequential_data/blob/main/TEST_Padding_Embedding.ipynb\" target=\"_parent\"><img src=\"https://colab.research.google.com/assets/colab-badge.svg\" alt=\"Open In Colab\"/></a>"
      ]
    },
    {
      "cell_type": "markdown",
      "source": [
        "## pad_sequence, pack_padded_sequence"
      ],
      "metadata": {
        "id": "HSue9zmSlW0d"
      }
    },
    {
      "cell_type": "code",
      "source": [
        "import torch\n",
        "from torch.nn.utils.rnn import pad_sequence, pack_padded_sequence\n",
        "\n",
        "# Variable-length sequences\n",
        "seq1 = torch.tensor([1, 2, 3])\n",
        "seq2 = torch.tensor([4, 5])\n",
        "seq3 = torch.tensor([6, 7, 8, 9])\n",
        "\n",
        "# List of sequences\n",
        "sequences = [seq1, seq2, seq3]\n",
        "\n",
        "# Pad sequences\n",
        "padded_sequences = pad_sequence(sequences, batch_first=True, padding_value=0)\n",
        "# tensor([[1, 2, 3, 0],\n",
        "#         [4, 5, 0, 0],\n",
        "#         [6, 7, 8, 9]])\n",
        "\n",
        "# Original sequence lengths\n",
        "lengths = torch.tensor([len(seq) for seq in sequences])\n",
        "\n",
        "# Sort sequences by length in descending order\n",
        "sorted_lengths, sorted_indices = lengths.sort(descending=True)\n",
        "sorted_padded_sequences = padded_sequences[sorted_indices]\n",
        "\n",
        "# Pack padded sequences\n",
        "packed_sequences = pack_padded_sequence(sorted_padded_sequences, sorted_lengths, batch_first=True)\n",
        "\n",
        "# Use the packed_sequences as input to your RNN, LSTM, or GRU layer\n"
      ],
      "metadata": {
        "id": "u3gN6iJGhdWU"
      },
      "execution_count": 5,
      "outputs": []
    },
    {
      "cell_type": "code",
      "source": [
        "sorted_padded_sequences"
      ],
      "metadata": {
        "colab": {
          "base_uri": "https://localhost:8080/"
        },
        "id": "IcqJgCz2jfx2",
        "outputId": "b88c0dc8-5a01-46c4-a093-20577fe36261"
      },
      "execution_count": 14,
      "outputs": [
        {
          "output_type": "execute_result",
          "data": {
            "text/plain": [
              "tensor([[6, 7, 8, 9],\n",
              "        [1, 2, 3, 0],\n",
              "        [4, 5, 0, 0]])"
            ]
          },
          "metadata": {},
          "execution_count": 14
        }
      ]
    },
    {
      "cell_type": "code",
      "source": [
        "packed_sequences\n"
      ],
      "metadata": {
        "colab": {
          "base_uri": "https://localhost:8080/"
        },
        "id": "C8UvPxVWhfMU",
        "outputId": "163f038d-5f46-4b2d-d756-1a3c27156bec"
      },
      "execution_count": 7,
      "outputs": [
        {
          "output_type": "execute_result",
          "data": {
            "text/plain": [
              "PackedSequence(data=tensor([6, 1, 4, 7, 2, 5, 8, 3, 9]), batch_sizes=tensor([3, 3, 2, 1]), sorted_indices=None, unsorted_indices=None)"
            ]
          },
          "metadata": {},
          "execution_count": 7
        }
      ]
    },
    {
      "cell_type": "code",
      "source": [
        "import torch\n",
        "from torch.nn import EmbeddingBag\n",
        "\n",
        "# Define the input data (indices for the embeddings)\n",
        "seq1 = torch.tensor([1, 2, 3])\n",
        "seq2 = torch.tensor([4, 5])\n",
        "seq3 = torch.tensor([6, 7, 8, 9])\n",
        "\n",
        "# List of sequences\n",
        "sequences = [seq1, seq2, seq3]\n",
        "\n",
        "# Create offsets to indicate the start of each sequence in the concatenated tensor\n",
        "offsets = torch.tensor([0, len(seq1), len(seq1) + len(seq2)])\n",
        "\n",
        "# Concatenate the sequences\n",
        "concatenated_sequences = torch.cat(sequences)\n",
        "\n",
        "# Define the EmbeddingBag layer\n",
        "vocab_size = 10\n",
        "embedding_dim = 4\n",
        "embedding_bag = EmbeddingBag(vocab_size, embedding_dim, mode='mean')\n",
        "\n",
        "# Compute the output (fixed-size representation for each sequence)\n",
        "output = embedding_bag(concatenated_sequences, offsets)\n",
        "\n",
        "# Output shape: (3, 4), where 3 is the batch size and 4 is the embedding dimension\n"
      ],
      "metadata": {
        "id": "QKRoc_5eij4k"
      },
      "execution_count": 17,
      "outputs": []
    },
    {
      "cell_type": "code",
      "source": [
        "output"
      ],
      "metadata": {
        "colab": {
          "base_uri": "https://localhost:8080/"
        },
        "id": "3eDccIP2i207",
        "outputId": "384755eb-a1d4-41b3-c9f6-262654df55fb"
      },
      "execution_count": 18,
      "outputs": [
        {
          "output_type": "execute_result",
          "data": {
            "text/plain": [
              "tensor([[-0.3504, -0.1769, -0.0509, -0.8649],\n",
              "        [-1.7669,  0.0832,  0.1542,  0.5274],\n",
              "        [-0.8994, -0.1463,  0.4700,  1.0038]], grad_fn=<EmbeddingBagBackward0>)"
            ]
          },
          "metadata": {},
          "execution_count": 18
        }
      ]
    },
    {
      "cell_type": "code",
      "source": [
        "import torch\n",
        "from torch.nn import Embedding\n",
        "\n",
        "# Variable-length sequences\n",
        "seq1 = torch.tensor([1, 2, 3])\n",
        "seq2 = torch.tensor([4, 5])\n",
        "seq3 = torch.tensor([6, 7, 8, 9])\n",
        "\n",
        "# List of sequences\n",
        "sequences = [seq1, seq2, seq3]\n",
        "\n",
        "# Define the Embedding layer\n",
        "vocab_size = 10\n",
        "embedding_dim = 4\n",
        "embedding_layer = Embedding(vocab_size, embedding_dim)\n",
        "\n",
        "# Compute the output (embeddings) for each sequence separately\n",
        "output_seq1 = embedding_layer(seq1)  # Shape: (3, 4)\n",
        "output_seq2 = embedding_layer(seq2)  # Shape: (2, 4)\n",
        "output_seq3 = embedding_layer(seq3)  # Shape: (4, 4)\n",
        "\n",
        "\n",
        "\n"
      ],
      "metadata": {
        "id": "M8j20q1Zi62e"
      },
      "execution_count": 24,
      "outputs": []
    },
    {
      "cell_type": "code",
      "source": [
        "print(output_seq1)\n",
        "print(output_seq2)\n",
        "print(output_seq3)"
      ],
      "metadata": {
        "colab": {
          "base_uri": "https://localhost:8080/"
        },
        "id": "M-DVII1xlo0w",
        "outputId": "7af8bc48-7189-408c-a40d-6ae8a3813327"
      },
      "execution_count": 29,
      "outputs": [
        {
          "output_type": "stream",
          "name": "stdout",
          "text": [
            "tensor([[-1.7210e+00, -6.2778e-01, -4.1730e-01,  2.0924e-01],\n",
            "        [ 5.1436e-01,  1.1150e-01,  6.5939e-01,  1.6387e-03],\n",
            "        [-1.4139e+00,  8.8464e-02, -1.0473e+00,  2.1602e-01]],\n",
            "       grad_fn=<EmbeddingBackward0>)\n",
            "tensor([[-0.0276, -1.0623, -0.5539, -1.6288],\n",
            "        [ 0.2982,  0.8436, -0.3670,  1.3668]], grad_fn=<EmbeddingBackward0>)\n",
            "tensor([[ 0.1783, -0.3751,  1.4580,  0.7141],\n",
            "        [ 0.8377, -0.0947,  0.2056,  0.5486],\n",
            "        [ 1.0757,  0.0524,  0.3090,  1.8480],\n",
            "        [-1.2072, -0.4872,  0.9894, -0.9489]], grad_fn=<EmbeddingBackward0>)\n"
          ]
        }
      ]
    },
    {
      "cell_type": "code",
      "source": [
        "from torch.nn.utils.rnn import pad_sequence\n",
        "\n",
        "# Pad sequences\n",
        "padded_sequences = pad_sequence(sequences, batch_first=True, padding_value=0)\n",
        "# tensor([[1, 2, 3, 0],\n",
        "#         [4, 5, 0, 0],\n",
        "#         [6, 7, 8, 9]])\n",
        "\n",
        "# Compute the output (embeddings) for the padded sequences\n",
        "output_padded = embedding_layer(padded_sequences)  # Shape: (3, 4, 4)"
      ],
      "metadata": {
        "id": "KwkiMYlGlplK"
      },
      "execution_count": 26,
      "outputs": []
    },
    {
      "cell_type": "code",
      "source": [
        "output_padded\n"
      ],
      "metadata": {
        "colab": {
          "base_uri": "https://localhost:8080/"
        },
        "id": "U5CG-f8tmOqN",
        "outputId": "f633d4e3-cd03-4824-934f-86deae60cf3c"
      },
      "execution_count": 28,
      "outputs": [
        {
          "output_type": "execute_result",
          "data": {
            "text/plain": [
              "tensor([[[-1.7210e+00, -6.2778e-01, -4.1730e-01,  2.0924e-01],\n",
              "         [ 5.1436e-01,  1.1150e-01,  6.5939e-01,  1.6387e-03],\n",
              "         [-1.4139e+00,  8.8464e-02, -1.0473e+00,  2.1602e-01],\n",
              "         [-3.9161e-01, -6.5614e-01, -4.1197e-01, -8.8819e-01]],\n",
              "\n",
              "        [[-2.7625e-02, -1.0623e+00, -5.5389e-01, -1.6288e+00],\n",
              "         [ 2.9815e-01,  8.4363e-01, -3.6700e-01,  1.3668e+00],\n",
              "         [-3.9161e-01, -6.5614e-01, -4.1197e-01, -8.8819e-01],\n",
              "         [-3.9161e-01, -6.5614e-01, -4.1197e-01, -8.8819e-01]],\n",
              "\n",
              "        [[ 1.7830e-01, -3.7514e-01,  1.4580e+00,  7.1413e-01],\n",
              "         [ 8.3771e-01, -9.4696e-02,  2.0559e-01,  5.4863e-01],\n",
              "         [ 1.0757e+00,  5.2444e-02,  3.0903e-01,  1.8480e+00],\n",
              "         [-1.2072e+00, -4.8723e-01,  9.8937e-01, -9.4894e-01]]],\n",
              "       grad_fn=<EmbeddingBackward0>)"
            ]
          },
          "metadata": {},
          "execution_count": 28
        }
      ]
    },
    {
      "cell_type": "code",
      "source": [],
      "metadata": {
        "id": "pkBQj9N5mPo9"
      },
      "execution_count": null,
      "outputs": []
    }
  ]
}